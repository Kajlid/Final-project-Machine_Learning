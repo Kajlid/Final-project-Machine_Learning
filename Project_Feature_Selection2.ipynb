{
  "cells": [
    {
      "cell_type": "markdown",
      "metadata": {
        "id": "view-in-github",
        "colab_type": "text"
      },
      "source": [
        "<a href=\"https://colab.research.google.com/github/Kajlid/Final-project-Machine_Learning/blob/Magda/Project_Feature_Selection2.ipynb\" target=\"_parent\"><img src=\"https://colab.research.google.com/assets/colab-badge.svg\" alt=\"Open In Colab\"/></a>"
      ]
    },
    {
      "cell_type": "code",
      "execution_count": 41,
      "metadata": {
        "id": "KDNPMCnItCl-"
      },
      "outputs": [],
      "source": [
        "# LIBRARIES #\n",
        "import pandas as pd\n",
        "import numpy as np\n",
        "import matplotlib as plt\n",
        "import matplotlib.pyplot as plt\n",
        "import seaborn as sns\n",
        "import os\n",
        "import warnings\n",
        "import io\n",
        "import sklearn\n",
        "import sklearn.metrics  as metrics\n",
        "from google.colab import files\n",
        "import sklearn.cluster as cluster\n",
        "from sklearn.cluster import KMeans\n",
        "from sklearn.decomposition import PCA\n",
        "from sklearn.model_selection import KFold\n",
        "from sklearn.model_selection import cross_val_score\n",
        "from sklearn.model_selection import GridSearchCV\n",
        "from sklearn.linear_model import LinearRegression\n",
        "from sklearn.linear_model import Lasso\n",
        "from sklearn.metrics import mean_squared_error\n",
        "from sklearn.preprocessing import StandardScaler\n",
        "from sklearn.model_selection import train_test_split, StratifiedKFold, cross_validate\n",
        "from sklearn.neighbors import KNeighborsClassifier\n",
        "from sklearn.metrics import accuracy_score, classification_report\n",
        "from sklearn.naive_bayes import CategoricalNB, GaussianNB\n",
        "from sklearn.preprocessing import LabelEncoder\n",
        "from sklearn.feature_selection import SelectKBest, chi2, f_classif\n",
        "from sklearn.metrics import accuracy_score, classification_report, confusion_matrix\n",
        "%matplotlib inline"
      ]
    },
    {
      "cell_type": "code",
      "execution_count": null,
      "metadata": {
        "id": "kowRfnwMtM0o"
      },
      "outputs": [],
      "source": [
        "# READ CSV #\n",
        "warnings.filterwarnings('ignore')\n",
        "uploaded = files.upload()\n",
        "data = pd.read_csv(io.BytesIO(uploaded['student-por.csv'])) "
      ]
    },
    {
      "cell_type": "code",
      "execution_count": 3,
      "metadata": {
        "id": "RxuRRRKztR-p"
      },
      "outputs": [],
      "source": [
        "# FIRST APPROACH TO THE DATASET #\n",
        "\n",
        "# columns names #\n",
        "data_names = ['school', 'sex', 'age', 'address', 'family_size', 'parent_cohabition_status', 'mother_education', 'father_education','mother_job', 'father_job', 'reason', 'guardian', 'traveltime', 'studytime', 'failures', 'school_support', 'family_support', 'paid', 'extra_curricular_activities', 'nursery', 'higher', 'internet_access', 'romantic', 'famrel', 'freetime', 'going_out', 'workday_alcohol', 'weekend_alcohol', 'health', 'absences','grade_period1', 'grade_period2', 'final_grade' ]\n",
        "data.columns = data_names\n",
        "\n",
        "# numerical vs categorical columns #\n",
        "numerical_columns = ['age', 'mother_education', 'father_education', 'traveltime', 'studytime', 'failures', 'famrel', 'freetime', 'going_out', 'workday_alcohol', 'weekend_alcohol', 'health', 'absences','grade_period1', 'grade_period2', 'final_grade']\n",
        "categorical_columns = [\"school\",\"sex\",'address', 'family_size', 'parent_cohabition_status','mother_job', 'father_job', 'reason', 'guardian',\"school_support\", \"family_support\",'paid', 'extra_curricular_activities', 'nursery', 'higher', 'internet_access', 'romantic']\n"
      ]
    },
    {
      "cell_type": "code",
      "execution_count": 4,
      "metadata": {
        "id": "U_lOXKQ7tWAC"
      },
      "outputs": [],
      "source": [
        "# CLEAN THE DATABASE # \n",
        "\n",
        "# 1. Drop the columns that we are not going to use.\n",
        "data_clean = data.drop(['grade_period1', 'grade_period2'], axis=1)\n",
        "\n",
        "# 2. Drop na's.\n",
        "data_clean=data.replace(r'^\\s*$', np.nan, regex=True)\n",
        "data_clean=data_clean.dropna(inplace=True)\n",
        "\n",
        "# 3. Get the dummies so that it is easier to work. \n",
        "# This is, transform the categorical columns into numerical ones. \n",
        "data_clean = pd.get_dummies(data, columns=categorical_columns)\n",
        "\n",
        "# 4. Transform the data. \n",
        "# we need to standarize the data to take into consideration variations in measurments, units and scales. \n",
        "scaler = StandardScaler()\n",
        "scaled_data = scaler.fit_transform(data_clean[numerical_columns])\n",
        "scaled_dataframe = pd.DataFrame(scaled_data, columns = numerical_columns)  \n",
        "scaled_dataframe.head()\n",
        "\n",
        "for column in numerical_columns:\n",
        "  data_clean.append(scaled_dataframe[column])\n",
        "  data_clean[column] = scaled_dataframe[column]"
      ]
    },
    {
      "cell_type": "code",
      "execution_count": null,
      "metadata": {
        "id": "PiaM6AREVpHU"
      },
      "outputs": [],
      "source": [
        "# LINEAR REGRESSION #\n",
        "\n",
        "# 1. Split into training and testing data.\n",
        "bm = data_clean.columns.isin(['age', 'mother_education', 'father_education', 'traveltime', 'studytime', 'failures', 'famrel', 'freetime', 'going_out',\n",
        "       'workday_alcohol', 'weekend_alcohol', 'health', 'absences', 'school_GP', 'school_MS', 'sex_F', 'sex_M', 'address_R', 'address_U',\n",
        "       'family_size_GT3', 'family_size_LE3', 'parent_cohabition_status_A', 'parent_cohabition_status_T', 'mother_job_at_home', 'mother_job_health',\n",
        "       'mother_job_other', 'mother_job_services', 'mother_job_teacher', 'father_job_at_home', 'father_job_health', 'father_job_other','father_job_services', \n",
        "       'father_job_teacher', 'reason_course', 'reason_home', 'reason_other', 'reason_reputation', 'guardian_father', 'guardian_mother', 'guardian_other', \n",
        "       'school_support_yes','family_support_yes', 'paid_yes', 'extra_curricular_activities_yes', 'nursery_yes', 'higher_yes', 'internet_access_yes','romantic_yes'])\n",
        "sc = data_clean.columns[bm]\n",
        "X=data_clean[sc]\n",
        "\n",
        "bm = data_clean.columns.isin([\"final_grade\"])\n",
        "s = data_clean.columns[bm]\n",
        "y=data_clean[s]\n",
        "\n",
        "X_train, X_test, y_train, y_test = train_test_split(X, y, test_size=0.3, shuffle=True)\n",
        "\n",
        "# 2. Fit the model and get the accuracy.\n",
        "linear_model=LinearRegression()\n",
        "linear_model.fit(X_train, y_train)\n",
        "print(\"Linear regression:\")\n",
        "print(\"Accuracy:\", linear_model.score(X_test,y_test))\n",
        "print(\"\\n\")\n",
        "\n",
        "# 3. Get the coefficients of the regression model:\n",
        "coefficient={}\n",
        "for coef, feat in zip(linear_model.coef_,X.columns):\n",
        "  coefficient[feat]=coef\n",
        "coefficient\n"
      ]
    },
    {
      "cell_type": "code",
      "execution_count": null,
      "metadata": {
        "id": "RNJltvi4aawY"
      },
      "outputs": [],
      "source": [
        "# LASSO REGRESSION #\n",
        "\n",
        "# 1. Split into training and testing data.\n",
        "bm = data_clean.columns.isin(['age', 'mother_education', 'father_education', 'traveltime', 'studytime', 'failures', 'famrel', 'freetime', 'going_out',\n",
        "       'workday_alcohol', 'weekend_alcohol', 'health', 'absences', 'school_GP', 'school_MS', 'sex_F', 'sex_M', 'address_R', 'address_U',\n",
        "       'family_size_GT3', 'family_size_LE3', 'parent_cohabition_status_A', 'parent_cohabition_status_T', 'mother_job_at_home', 'mother_job_health',\n",
        "       'mother_job_other', 'mother_job_services', 'mother_job_teacher', 'father_job_at_home', 'father_job_health', 'father_job_other','father_job_services', \n",
        "       'father_job_teacher', 'reason_course', 'reason_home', 'reason_other', 'reason_reputation', 'guardian_father', 'guardian_mother', 'guardian_other', \n",
        "       'school_support_yes','family_support_yes', 'paid_yes', 'extra_curricular_activities_yes', 'nursery_yes', 'higher_yes', 'internet_access_yes','romantic_yes'])\n",
        "sc = data_clean.columns[bm]\n",
        "X=data_clean[sc]\n",
        "\n",
        "bm = data_clean.columns.isin([\"final_grade\"])\n",
        "s = data_clean.columns[bm]\n",
        "y=data_clean[s]\n",
        "\n",
        "X_train, X_test, y_train, y_test = train_test_split(X, y, test_size=0.3, shuffle=True)\n",
        "\n",
        "# 2. Fit the model and get the accuracy.\n",
        "# Here we could use the function to get the best alpha. \n",
        "lasso_model=Lasso(alpha=0.1)\n",
        "lasso_model.fit(X_train, y_train)\n",
        "\n",
        "# 3. Make the predictions.\n",
        "y_pred = lasso_model.predict(X_test)\n",
        "\n",
        "# 4. Get the slope and the intercept. \n",
        "# y = mx + b, where m represents the slope and b represents the y-intercept.\n",
        "print(\"Slope\",lasso_model.coef_[0])\n",
        "print(\"Intercept:\",lasso_model.intercept_)\n",
        "print(\"\\n\")\n",
        "\n",
        "# 5. Evaluate the performance of our model\n",
        "# Method 1: mean squared error\n",
        "# Disadvantage it's difficult to evaluate the performance of the model using MSE as the value of MSE can vary from 0 to any larger number\n",
        "mse = mean_squared_error(y_test,y_pred)\n",
        "print(\"Mean squared error:\", mse)\n",
        "\n",
        "# Method 2: R2.\n",
        "# The value of R2 varies between 0 and 1. \n",
        "r2=lasso_model.score(X_test,y_test)\n",
        "print(\"R2:\",r2)"
      ]
    },
    {
      "cell_type": "code",
      "source": [
        "# FEATURE SELECTION # \n",
        "\n",
        "bm = data_clean.columns.isin(['age', 'mother_education', 'father_education', 'traveltime', 'studytime', 'failures', 'famrel', 'freetime', 'going_out',\n",
        "       'workday_alcohol', 'weekend_alcohol', 'health', 'absences', 'school_GP', 'school_MS', 'sex_F', 'sex_M', 'address_R', 'address_U',\n",
        "       'family_size_GT3', 'family_size_LE3', 'parent_cohabition_status_A', 'parent_cohabition_status_T', 'mother_job_at_home', 'mother_job_health',\n",
        "       'mother_job_other', 'mother_job_services', 'mother_job_teacher', 'father_job_at_home', 'father_job_health', 'father_job_other','father_job_services', \n",
        "       'father_job_teacher', 'reason_course', 'reason_home', 'reason_other', 'reason_reputation', 'guardian_father', 'guardian_mother', 'guardian_other', \n",
        "       'school_support_yes','family_support_yes', 'paid_yes', 'extra_curricular_activities_yes', 'nursery_yes', 'higher_yes', 'internet_access_yes','romantic_yes'])\n",
        "sc = data_clean.columns[bm]\n",
        "X=data_clean[sc]\n",
        "\n",
        "bm = data_clean.columns.isin([\"final_grade\"])\n",
        "s = data_clean.columns[bm]\n",
        "y=data_clean[s]\n",
        "\n",
        "D = 8\n",
        "est = SelectKBest(f_classif,k=D)\n",
        "X_new = est.fit_transform(X, y)\n",
        "sup = est.get_support()\n",
        "featurenames = X.columns\n",
        "print(\"Features selected are:\")\n",
        "for nn in np.where(sup)[0]:\n",
        "  print(featurenames[nn])\n"
      ],
      "metadata": {
        "colab": {
          "base_uri": "https://localhost:8080/"
        },
        "id": "F9GXFPHF0Llz",
        "outputId": "0ad8784a-3eaf-424f-9f34-c037a27423a5"
      },
      "execution_count": 23,
      "outputs": [
        {
          "output_type": "stream",
          "name": "stdout",
          "text": [
            "Features selected are:\n",
            "age\n",
            "mother_education\n",
            "father_education\n",
            "failures\n",
            "workday_alcohol\n",
            "school_GP\n",
            "school_MS\n",
            "higher_yes\n"
          ]
        }
      ]
    },
    {
      "cell_type": "code",
      "source": [
        "# LINEAR REGRESSION WITH FEATURES SELECTED #\n",
        "\n",
        "# 1. Split into training and testing data.\n",
        "bm = data_clean.columns.isin([\"failures\",\"school_MS\",\"higher_yes\",\"age\", \"mother_education\",\"father_education\",\"school_GP\",\"workday_alcohol\"])\n",
        "sc = data_clean.columns[bm]\n",
        "X=data_clean[sc]\n",
        "\n",
        "bm = data_clean.columns.isin([\"final_grade\"])\n",
        "s = data_clean.columns[bm]\n",
        "y=data_clean[s]\n",
        "\n",
        "X_train, X_test, y_train, y_test = train_test_split(X, y, test_size=0.3, shuffle=True)\n",
        "\n",
        "# 2. Fit the model and get the accuracy.\n",
        "linear_model=LinearRegression()\n",
        "linear_model.fit(X_train, y_train)\n",
        "print(\"Linear regression:\")\n",
        "print(\"Accuracy:\", linear_model.score(X_test,y_test))\n",
        "print(\"\\n\")\n",
        "\n",
        "# 3. Plot the result.\n",
        "bm = data_clean.columns.isin([\"failures\"])\n",
        "sc = data_clean.columns[bm]\n",
        "failures=data_clean[sc]\n",
        "plt.scatter(failures,y)\n",
        "plt.xlabel(\"Failures\")\n",
        "plt.ylabel(\"Final grade\")"
      ],
      "metadata": {
        "id": "piUJJIAB1aaC"
      },
      "execution_count": null,
      "outputs": []
    },
    {
      "cell_type": "code",
      "source": [
        "# LASSO REGRESION WITH FEATURES SELECTED #\n",
        "\n",
        "# 1. Split into training and testing data.\n",
        "bm = data_clean.columns.isin([\"failures\",\"school_MS\",\"higher_yes\",\"age\", \"mother_education\",\"father_education\",\"school_GP\",\"workday_alcohol\"])\n",
        "sc = data_clean.columns[bm]\n",
        "X=data_clean[sc]\n",
        "\n",
        "bm = data_clean.columns.isin([\"final_grade\"])\n",
        "s = data_clean.columns[bm]\n",
        "y=data_clean[s]\n",
        "\n",
        "X_train, X_test, y_train, y_test = train_test_split(X, y, test_size=0.3, shuffle=True)\n",
        "\n",
        "# 2. Fit the model and get the accuracy.\n",
        "# Here we could use the function to get the best alpha. \n",
        "lasso_model=Lasso(alpha=0.1)\n",
        "lasso_model.fit(X_train, y_train)\n",
        "\n",
        "# 3. Make the predictions.\n",
        "y_pred = lasso_model.predict(X_test)\n",
        "\n",
        "# 4. Get the slope and the intercept. \n",
        "# y = mx + b, where m represents the slope and b represents the y-intercept.\n",
        "print(\"Slope\",lasso_model.coef_[0])\n",
        "print(\"Intercept:\",lasso_model.intercept_)\n",
        "print(\"\\n\")\n",
        "\n",
        "# 5. Evaluate the performance of our model\n",
        "# Method 1: mean squared error\n",
        "# Disadvantage it's difficult to evaluate the performance of the model using MSE as the value of MSE can vary from 0 to any larger number\n",
        "mse = mean_squared_error(y_test,y_pred)\n",
        "print(\"Mean squared error:\", mse)\n",
        "\n",
        "# Method 2: R2.\n",
        "# The value of R2 varies between 0 and 1. \n",
        "r2=lasso_model.score(X_test,y_test)\n",
        "print(\"R2:\",r2)"
      ],
      "metadata": {
        "id": "azb_di3b2_AG"
      },
      "execution_count": null,
      "outputs": []
    }
  ],
  "metadata": {
    "colab": {
      "provenance": [],
      "authorship_tag": "ABX9TyOoIZ1PAvxX5fhdmi5AaEwc",
      "include_colab_link": true
    },
    "kernelspec": {
      "display_name": "Python 3",
      "name": "python3"
    },
    "language_info": {
      "name": "python"
    }
  },
  "nbformat": 4,
  "nbformat_minor": 0
}