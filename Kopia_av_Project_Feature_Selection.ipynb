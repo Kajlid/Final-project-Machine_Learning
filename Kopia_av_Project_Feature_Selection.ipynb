{
  "nbformat": 4,
  "nbformat_minor": 0,
  "metadata": {
    "colab": {
      "provenance": []
    },
    "kernelspec": {
      "name": "python3",
      "display_name": "Python 3"
    },
    "language_info": {
      "name": "python"
    }
  },
  "cells": [
    {
      "cell_type": "code",
      "execution_count": 88,
      "metadata": {
        "id": "KDNPMCnItCl-"
      },
      "outputs": [],
      "source": [
        "# LIBRARIES #\n",
        "import pandas as pd\n",
        "import numpy as np\n",
        "import matplotlib as plt\n",
        "import matplotlib.pyplot as plt\n",
        "import seaborn as sns\n",
        "import warnings\n",
        "import io\n",
        "import sklearn\n",
        "import sklearn.metrics  as metrics\n",
        "import sklearn.cluster as cluster\n",
        "from sklearn.cluster import KMeans\n",
        "from sklearn.decomposition import PCA\n",
        "from sklearn.model_selection import train_test_split, StratifiedKFold, cross_validate, KFold, cross_val_score, GridSearchCV\n",
        "from sklearn.feature_selection import SelectFromModel\n",
        "from sklearn.linear_model import LinearRegression, Lasso, LassoCV\n",
        "from sklearn.metrics import mean_squared_error, accuracy_score, classification_report, mean_squared_error, r2_score\n",
        "from sklearn.preprocessing import StandardScaler\n",
        "from sklearn.neighbors import KNeighborsClassifier\n",
        "%matplotlib inline"
      ]
    },
    {
      "cell_type": "code",
      "source": [
        "# READ CSV #\n",
        "warnings.filterwarnings('ignore')\n",
        "data = pd.read_csv('/content/student-por.csv', sep=\",\")"
      ],
      "metadata": {
        "id": "kowRfnwMtM0o"
      },
      "execution_count": 89,
      "outputs": []
    },
    {
      "cell_type": "code",
      "source": [
        "data.describe()"
      ],
      "metadata": {
        "colab": {
          "base_uri": "https://localhost:8080/",
          "height": 361
        },
        "id": "1aVMK9WGoESz",
        "outputId": "fe537c9b-a7e3-4919-e883-b9ab7a037228"
      },
      "execution_count": 90,
      "outputs": [
        {
          "output_type": "execute_result",
          "data": {
            "text/plain": [
              "              age        Medu        Fedu  traveltime   studytime    failures  \\\n",
              "count  649.000000  649.000000  649.000000  649.000000  649.000000  649.000000   \n",
              "mean    16.744222    2.514638    2.306626    1.568567    1.930663    0.221880   \n",
              "std      1.218138    1.134552    1.099931    0.748660    0.829510    0.593235   \n",
              "min     15.000000    0.000000    0.000000    1.000000    1.000000    0.000000   \n",
              "25%     16.000000    2.000000    1.000000    1.000000    1.000000    0.000000   \n",
              "50%     17.000000    2.000000    2.000000    1.000000    2.000000    0.000000   \n",
              "75%     18.000000    4.000000    3.000000    2.000000    2.000000    0.000000   \n",
              "max     22.000000    4.000000    4.000000    4.000000    4.000000    3.000000   \n",
              "\n",
              "           famrel    freetime       goout        Dalc        Walc      health  \\\n",
              "count  649.000000  649.000000  649.000000  649.000000  649.000000  649.000000   \n",
              "mean     3.930663    3.180277    3.184900    1.502311    2.280431    3.536210   \n",
              "std      0.955717    1.051093    1.175766    0.924834    1.284380    1.446259   \n",
              "min      1.000000    1.000000    1.000000    1.000000    1.000000    1.000000   \n",
              "25%      4.000000    3.000000    2.000000    1.000000    1.000000    2.000000   \n",
              "50%      4.000000    3.000000    3.000000    1.000000    2.000000    4.000000   \n",
              "75%      5.000000    4.000000    4.000000    2.000000    3.000000    5.000000   \n",
              "max      5.000000    5.000000    5.000000    5.000000    5.000000    5.000000   \n",
              "\n",
              "         absences          G1          G2          G3  \n",
              "count  649.000000  649.000000  649.000000  649.000000  \n",
              "mean     3.659476   11.399076   11.570108   11.906009  \n",
              "std      4.640759    2.745265    2.913639    3.230656  \n",
              "min      0.000000    0.000000    0.000000    0.000000  \n",
              "25%      0.000000   10.000000   10.000000   10.000000  \n",
              "50%      2.000000   11.000000   11.000000   12.000000  \n",
              "75%      6.000000   13.000000   13.000000   14.000000  \n",
              "max     32.000000   19.000000   19.000000   19.000000  "
            ],
            "text/html": [
              "\n",
              "  <div id=\"df-385e1f2b-aaac-4ec1-83b4-475497e3b224\">\n",
              "    <div class=\"colab-df-container\">\n",
              "      <div>\n",
              "<style scoped>\n",
              "    .dataframe tbody tr th:only-of-type {\n",
              "        vertical-align: middle;\n",
              "    }\n",
              "\n",
              "    .dataframe tbody tr th {\n",
              "        vertical-align: top;\n",
              "    }\n",
              "\n",
              "    .dataframe thead th {\n",
              "        text-align: right;\n",
              "    }\n",
              "</style>\n",
              "<table border=\"1\" class=\"dataframe\">\n",
              "  <thead>\n",
              "    <tr style=\"text-align: right;\">\n",
              "      <th></th>\n",
              "      <th>age</th>\n",
              "      <th>Medu</th>\n",
              "      <th>Fedu</th>\n",
              "      <th>traveltime</th>\n",
              "      <th>studytime</th>\n",
              "      <th>failures</th>\n",
              "      <th>famrel</th>\n",
              "      <th>freetime</th>\n",
              "      <th>goout</th>\n",
              "      <th>Dalc</th>\n",
              "      <th>Walc</th>\n",
              "      <th>health</th>\n",
              "      <th>absences</th>\n",
              "      <th>G1</th>\n",
              "      <th>G2</th>\n",
              "      <th>G3</th>\n",
              "    </tr>\n",
              "  </thead>\n",
              "  <tbody>\n",
              "    <tr>\n",
              "      <th>count</th>\n",
              "      <td>649.000000</td>\n",
              "      <td>649.000000</td>\n",
              "      <td>649.000000</td>\n",
              "      <td>649.000000</td>\n",
              "      <td>649.000000</td>\n",
              "      <td>649.000000</td>\n",
              "      <td>649.000000</td>\n",
              "      <td>649.000000</td>\n",
              "      <td>649.000000</td>\n",
              "      <td>649.000000</td>\n",
              "      <td>649.000000</td>\n",
              "      <td>649.000000</td>\n",
              "      <td>649.000000</td>\n",
              "      <td>649.000000</td>\n",
              "      <td>649.000000</td>\n",
              "      <td>649.000000</td>\n",
              "    </tr>\n",
              "    <tr>\n",
              "      <th>mean</th>\n",
              "      <td>16.744222</td>\n",
              "      <td>2.514638</td>\n",
              "      <td>2.306626</td>\n",
              "      <td>1.568567</td>\n",
              "      <td>1.930663</td>\n",
              "      <td>0.221880</td>\n",
              "      <td>3.930663</td>\n",
              "      <td>3.180277</td>\n",
              "      <td>3.184900</td>\n",
              "      <td>1.502311</td>\n",
              "      <td>2.280431</td>\n",
              "      <td>3.536210</td>\n",
              "      <td>3.659476</td>\n",
              "      <td>11.399076</td>\n",
              "      <td>11.570108</td>\n",
              "      <td>11.906009</td>\n",
              "    </tr>\n",
              "    <tr>\n",
              "      <th>std</th>\n",
              "      <td>1.218138</td>\n",
              "      <td>1.134552</td>\n",
              "      <td>1.099931</td>\n",
              "      <td>0.748660</td>\n",
              "      <td>0.829510</td>\n",
              "      <td>0.593235</td>\n",
              "      <td>0.955717</td>\n",
              "      <td>1.051093</td>\n",
              "      <td>1.175766</td>\n",
              "      <td>0.924834</td>\n",
              "      <td>1.284380</td>\n",
              "      <td>1.446259</td>\n",
              "      <td>4.640759</td>\n",
              "      <td>2.745265</td>\n",
              "      <td>2.913639</td>\n",
              "      <td>3.230656</td>\n",
              "    </tr>\n",
              "    <tr>\n",
              "      <th>min</th>\n",
              "      <td>15.000000</td>\n",
              "      <td>0.000000</td>\n",
              "      <td>0.000000</td>\n",
              "      <td>1.000000</td>\n",
              "      <td>1.000000</td>\n",
              "      <td>0.000000</td>\n",
              "      <td>1.000000</td>\n",
              "      <td>1.000000</td>\n",
              "      <td>1.000000</td>\n",
              "      <td>1.000000</td>\n",
              "      <td>1.000000</td>\n",
              "      <td>1.000000</td>\n",
              "      <td>0.000000</td>\n",
              "      <td>0.000000</td>\n",
              "      <td>0.000000</td>\n",
              "      <td>0.000000</td>\n",
              "    </tr>\n",
              "    <tr>\n",
              "      <th>25%</th>\n",
              "      <td>16.000000</td>\n",
              "      <td>2.000000</td>\n",
              "      <td>1.000000</td>\n",
              "      <td>1.000000</td>\n",
              "      <td>1.000000</td>\n",
              "      <td>0.000000</td>\n",
              "      <td>4.000000</td>\n",
              "      <td>3.000000</td>\n",
              "      <td>2.000000</td>\n",
              "      <td>1.000000</td>\n",
              "      <td>1.000000</td>\n",
              "      <td>2.000000</td>\n",
              "      <td>0.000000</td>\n",
              "      <td>10.000000</td>\n",
              "      <td>10.000000</td>\n",
              "      <td>10.000000</td>\n",
              "    </tr>\n",
              "    <tr>\n",
              "      <th>50%</th>\n",
              "      <td>17.000000</td>\n",
              "      <td>2.000000</td>\n",
              "      <td>2.000000</td>\n",
              "      <td>1.000000</td>\n",
              "      <td>2.000000</td>\n",
              "      <td>0.000000</td>\n",
              "      <td>4.000000</td>\n",
              "      <td>3.000000</td>\n",
              "      <td>3.000000</td>\n",
              "      <td>1.000000</td>\n",
              "      <td>2.000000</td>\n",
              "      <td>4.000000</td>\n",
              "      <td>2.000000</td>\n",
              "      <td>11.000000</td>\n",
              "      <td>11.000000</td>\n",
              "      <td>12.000000</td>\n",
              "    </tr>\n",
              "    <tr>\n",
              "      <th>75%</th>\n",
              "      <td>18.000000</td>\n",
              "      <td>4.000000</td>\n",
              "      <td>3.000000</td>\n",
              "      <td>2.000000</td>\n",
              "      <td>2.000000</td>\n",
              "      <td>0.000000</td>\n",
              "      <td>5.000000</td>\n",
              "      <td>4.000000</td>\n",
              "      <td>4.000000</td>\n",
              "      <td>2.000000</td>\n",
              "      <td>3.000000</td>\n",
              "      <td>5.000000</td>\n",
              "      <td>6.000000</td>\n",
              "      <td>13.000000</td>\n",
              "      <td>13.000000</td>\n",
              "      <td>14.000000</td>\n",
              "    </tr>\n",
              "    <tr>\n",
              "      <th>max</th>\n",
              "      <td>22.000000</td>\n",
              "      <td>4.000000</td>\n",
              "      <td>4.000000</td>\n",
              "      <td>4.000000</td>\n",
              "      <td>4.000000</td>\n",
              "      <td>3.000000</td>\n",
              "      <td>5.000000</td>\n",
              "      <td>5.000000</td>\n",
              "      <td>5.000000</td>\n",
              "      <td>5.000000</td>\n",
              "      <td>5.000000</td>\n",
              "      <td>5.000000</td>\n",
              "      <td>32.000000</td>\n",
              "      <td>19.000000</td>\n",
              "      <td>19.000000</td>\n",
              "      <td>19.000000</td>\n",
              "    </tr>\n",
              "  </tbody>\n",
              "</table>\n",
              "</div>\n",
              "      <button class=\"colab-df-convert\" onclick=\"convertToInteractive('df-385e1f2b-aaac-4ec1-83b4-475497e3b224')\"\n",
              "              title=\"Convert this dataframe to an interactive table.\"\n",
              "              style=\"display:none;\">\n",
              "        \n",
              "  <svg xmlns=\"http://www.w3.org/2000/svg\" height=\"24px\"viewBox=\"0 0 24 24\"\n",
              "       width=\"24px\">\n",
              "    <path d=\"M0 0h24v24H0V0z\" fill=\"none\"/>\n",
              "    <path d=\"M18.56 5.44l.94 2.06.94-2.06 2.06-.94-2.06-.94-.94-2.06-.94 2.06-2.06.94zm-11 1L8.5 8.5l.94-2.06 2.06-.94-2.06-.94L8.5 2.5l-.94 2.06-2.06.94zm10 10l.94 2.06.94-2.06 2.06-.94-2.06-.94-.94-2.06-.94 2.06-2.06.94z\"/><path d=\"M17.41 7.96l-1.37-1.37c-.4-.4-.92-.59-1.43-.59-.52 0-1.04.2-1.43.59L10.3 9.45l-7.72 7.72c-.78.78-.78 2.05 0 2.83L4 21.41c.39.39.9.59 1.41.59.51 0 1.02-.2 1.41-.59l7.78-7.78 2.81-2.81c.8-.78.8-2.07 0-2.86zM5.41 20L4 18.59l7.72-7.72 1.47 1.35L5.41 20z\"/>\n",
              "  </svg>\n",
              "      </button>\n",
              "      \n",
              "  <style>\n",
              "    .colab-df-container {\n",
              "      display:flex;\n",
              "      flex-wrap:wrap;\n",
              "      gap: 12px;\n",
              "    }\n",
              "\n",
              "    .colab-df-convert {\n",
              "      background-color: #E8F0FE;\n",
              "      border: none;\n",
              "      border-radius: 50%;\n",
              "      cursor: pointer;\n",
              "      display: none;\n",
              "      fill: #1967D2;\n",
              "      height: 32px;\n",
              "      padding: 0 0 0 0;\n",
              "      width: 32px;\n",
              "    }\n",
              "\n",
              "    .colab-df-convert:hover {\n",
              "      background-color: #E2EBFA;\n",
              "      box-shadow: 0px 1px 2px rgba(60, 64, 67, 0.3), 0px 1px 3px 1px rgba(60, 64, 67, 0.15);\n",
              "      fill: #174EA6;\n",
              "    }\n",
              "\n",
              "    [theme=dark] .colab-df-convert {\n",
              "      background-color: #3B4455;\n",
              "      fill: #D2E3FC;\n",
              "    }\n",
              "\n",
              "    [theme=dark] .colab-df-convert:hover {\n",
              "      background-color: #434B5C;\n",
              "      box-shadow: 0px 1px 3px 1px rgba(0, 0, 0, 0.15);\n",
              "      filter: drop-shadow(0px 1px 2px rgba(0, 0, 0, 0.3));\n",
              "      fill: #FFFFFF;\n",
              "    }\n",
              "  </style>\n",
              "\n",
              "      <script>\n",
              "        const buttonEl =\n",
              "          document.querySelector('#df-385e1f2b-aaac-4ec1-83b4-475497e3b224 button.colab-df-convert');\n",
              "        buttonEl.style.display =\n",
              "          google.colab.kernel.accessAllowed ? 'block' : 'none';\n",
              "\n",
              "        async function convertToInteractive(key) {\n",
              "          const element = document.querySelector('#df-385e1f2b-aaac-4ec1-83b4-475497e3b224');\n",
              "          const dataTable =\n",
              "            await google.colab.kernel.invokeFunction('convertToInteractive',\n",
              "                                                     [key], {});\n",
              "          if (!dataTable) return;\n",
              "\n",
              "          const docLinkHtml = 'Like what you see? Visit the ' +\n",
              "            '<a target=\"_blank\" href=https://colab.research.google.com/notebooks/data_table.ipynb>data table notebook</a>'\n",
              "            + ' to learn more about interactive tables.';\n",
              "          element.innerHTML = '';\n",
              "          dataTable['output_type'] = 'display_data';\n",
              "          await google.colab.output.renderOutput(dataTable, element);\n",
              "          const docLink = document.createElement('div');\n",
              "          docLink.innerHTML = docLinkHtml;\n",
              "          element.appendChild(docLink);\n",
              "        }\n",
              "      </script>\n",
              "    </div>\n",
              "  </div>\n",
              "  "
            ]
          },
          "metadata": {},
          "execution_count": 90
        }
      ]
    },
    {
      "cell_type": "code",
      "source": [
        "# FIRST APPROACH TO THE DATASET #\n",
        "\n",
        "# columns names #\n",
        "data_names = ['school', 'sex', 'age', 'address', 'family_size', 'parent_cohabition_status', 'mother_education', 'father_education','mother_job', 'father_job', 'reason', 'guardian', 'traveltime', 'studytime', 'failures', 'school_support', 'family_support', 'paid', 'extra_curricular_activities', 'nursery', 'higher', 'internet_access', 'romantic', 'famrel', 'freetime', 'going_out', 'workday_alcohol', 'weekend_alcohol', 'health', 'absences','grade_period1', 'grade_period2', 'final_grade' ]\n",
        "data.columns = data_names\n",
        "\n",
        "# numerical vs categorical columns #\n",
        "numerical_columns = ['age', 'mother_education', 'father_education', 'traveltime', 'studytime', 'failures', 'famrel', 'freetime', 'going_out', 'workday_alcohol', 'weekend_alcohol', 'health', 'absences', 'final_grade']\n",
        "categorical_columns = [\"school\",\"sex\",'address', 'family_size', 'parent_cohabition_status','mother_job', 'father_job', 'reason', 'guardian',\"school_support\", \"family_support\",'paid', 'extra_curricular_activities', 'nursery', 'higher', 'internet_access', 'romantic']\n"
      ],
      "metadata": {
        "id": "RxuRRRKztR-p"
      },
      "execution_count": 91,
      "outputs": []
    },
    {
      "cell_type": "code",
      "source": [
        "# CLEAN THE DATABASE # \n",
        "\n",
        "# 1. Drop the columns that we are not going to use.\n",
        "data_clean = data.drop(['grade_period1', 'grade_period2'], axis=1)\n",
        "\n",
        "# 2. Drop na's.\n",
        "# data_clean=data_clean.dropna(inplace=True)"
      ],
      "metadata": {
        "id": "K7kPiJNSohh9"
      },
      "execution_count": 92,
      "outputs": []
    },
    {
      "cell_type": "code",
      "source": [
        "# CLEAN THE DATABASE # \n",
        "\n",
        "# 3. Get the dummies so that it is easier to work. \n",
        "# This is, transform the categorical columns into numerical ones. \n",
        "data_clean = pd.get_dummies(data_clean, columns=categorical_columns)\n",
        "\n",
        "# 4. Transform the data. \n",
        "# we need to standarize the data to take into consideration variations in measurments, units and scales. \n",
        "scaler = StandardScaler()\n",
        "scaled_data = scaler.fit_transform(data_clean[numerical_columns])\n",
        "scaled_dataframe = pd.DataFrame(scaled_data, columns = numerical_columns)  \n",
        "scaled_dataframe.head()\n",
        "\n",
        "for column in numerical_columns:\n",
        "  data_clean.append(scaled_dataframe[column])\n",
        "  data_clean[column] = scaled_dataframe[column]"
      ],
      "metadata": {
        "id": "U_lOXKQ7tWAC"
      },
      "execution_count": 93,
      "outputs": []
    },
    {
      "cell_type": "code",
      "source": [
        "# LINEAR REGRESSION #\n",
        "\n",
        "# 1. Split into training and testing data.\n",
        "boolean_mask = data_clean.columns.isin(['age', 'mother_education', 'father_education', 'traveltime', 'studytime', 'failures', 'famrel', 'freetime', 'going_out',\n",
        "       'workday_alcohol', 'weekend_alcohol', 'health', 'absences', 'grade_period1', 'grade_period2', 'school_GP', 'school_MS', 'sex_F', 'sex_M', 'address_R', 'address_U',\n",
        "       'family_size_GT3', 'family_size_LE3', 'parent_cohabition_status_A', 'parent_cohabition_status_T', 'mother_job_at_home', 'mother_job_health',\n",
        "       'mother_job_other', 'mother_job_services', 'mother_job_teacher', 'father_job_at_home', 'father_job_health', 'father_job_other','father_job_services', \n",
        "       'father_job_teacher', 'reason_course', 'reason_home', 'reason_other', 'reason_reputation', 'guardian_father', 'guardian_mother', 'guardian_other', \n",
        "       'school_support_yes','family_support_yes', 'paid_yes', 'extra_curricular_activities_yes', 'nursery_yes', 'higher_yes', 'internet_access_yes','romantic_yes'])\n",
        "sc = data_clean.columns[boolean_mask]\n",
        "X=data_clean[sc]\n",
        "\n",
        "boolean_mask_target = data_clean.columns.isin([\"final_grade\"])\n",
        "s = data_clean.columns[boolean_mask_target]\n",
        "y=data_clean[s]\n",
        "\n",
        "X_train, X_test, y_train, y_test = train_test_split(X, y, test_size=0.2, shuffle=True)\n",
        "\n",
        "# 2. Fit the model, get the prediction and get the accuracy.\n",
        "linear_model=LinearRegression()\n",
        "linear_model.fit(X_train, y_train)\n",
        "print(\"Linear regression:\")\n",
        "\n",
        "y_pred = linear_model.predict(X_train)\n",
        "\n",
        "print(\"Accuracy:\", linear_model.score(X_test,y_test))   # linear_model.score uses R-squared metric by default\n",
        "\n",
        "mse_tot = mean_squared_error(y_train, y_pred)  \n",
        "\n",
        "print(\"Mean squared error: %.10f\" % mse_tot)  \n",
        "\n",
        "# 3. Get the coefficients of the regression model:\n",
        "coefficient={}\n",
        "for coef, feat in zip(linear_model.coef_,X.columns):\n",
        "  coefficient[feat]=coef\n"
      ],
      "metadata": {
        "colab": {
          "base_uri": "https://localhost:8080/"
        },
        "id": "PiaM6AREVpHU",
        "outputId": "1ba202e7-edbe-4581-e313-606db564fd0d"
      },
      "execution_count": 94,
      "outputs": [
        {
          "output_type": "stream",
          "name": "stdout",
          "text": [
            "Linear regression:\n",
            "Accuracy: 0.24907719176742693\n",
            "Mean squared error: 0.6756022468\n"
          ]
        }
      ]
    },
    {
      "cell_type": "code",
      "source": [
        "y_pred_rescaled = y_pred * data[\"final_grade\"].std() + data[\"final_grade\"].mean()\n",
        "# print(y_pred_rescaled)   # these are the predicted grades in their original form\n",
        "print(\"\\n\", \"Mean of predicted grades:\", y_pred_rescaled.mean())\n",
        "\n",
        "# Our model predicts a slightly lower mean of the grades than in database. "
      ],
      "metadata": {
        "colab": {
          "base_uri": "https://localhost:8080/"
        },
        "id": "SuvNbZELqYQh",
        "outputId": "9f07e252-da12-443e-f7f8-f5fea60382ab"
      },
      "execution_count": 95,
      "outputs": [
        {
          "output_type": "stream",
          "name": "stdout",
          "text": [
            "\n",
            " Mean of predicted grades: 11.874204554740695\n"
          ]
        }
      ]
    },
    {
      "cell_type": "code",
      "source": [
        "\"\"\"x = np.arange(-4, 4, 1)\n",
        "plt.scatter(y_test, y_pred)\n",
        "plt.plot(x, x, color='m')\n",
        "plt.xlabel(\"Actual final grade\")\n",
        "plt.ylabel(\"Predicted final grade\")\n",
        "plt.title(\"Actual vs. predicted final grade, Linear regression model\")\n",
        "plt.grid(0.5); plt.show()\"\"\""
      ],
      "metadata": {
        "colab": {
          "base_uri": "https://localhost:8080/",
          "height": 54
        },
        "id": "cIbFZFc-ljMc",
        "outputId": "1b5f82a0-d655-48d1-c8ee-2d4d0ced9b7a"
      },
      "execution_count": 82,
      "outputs": [
        {
          "output_type": "execute_result",
          "data": {
            "text/plain": [
              "'x = np.arange(-4, 4, 1)\\nplt.scatter(y_test, y_pred)\\nplt.plot(x, x, color=\\'m\\')\\nplt.xlabel(\"Actual final grade\")\\nplt.ylabel(\"Predicted final grade\")\\nplt.title(\"Actual vs. predicted final grade, Linear regression model\")\\nplt.grid(0.5); plt.show()'"
            ],
            "application/vnd.google.colaboratory.intrinsic+json": {
              "type": "string"
            }
          },
          "metadata": {},
          "execution_count": 82
        }
      ]
    },
    {
      "cell_type": "code",
      "source": [
        "# Creates a function to determine which will be the best alpha value for Lasso regression in following cell.\n",
        "alphas = np.arange(0,1,0.001).tolist()\n",
        "def best_alpha(X, y, alpha_values=alphas):\n",
        "    \"\"\"\n",
        "    Here we can test which the best alpha value is, using cross-validation for Lasso model.\n",
        "\n",
        "    X is a feature matrix and y is a target vector. We will test all alpha values in the list of alpha values.\n",
        "    \"\"\"\n",
        "    \n",
        "    lasso = LassoCV(alphas=alpha_values, cv=5, random_state=42)\n",
        "    lasso.fit(X, y)\n",
        "    \n",
        "    best_alpha = lasso.alpha_\n",
        "    \n",
        "    return best_alpha"
      ],
      "metadata": {
        "id": "0igE4PNjrFG0"
      },
      "execution_count": 96,
      "outputs": []
    },
    {
      "cell_type": "code",
      "source": [
        "# LASSO REGRESSION #\n",
        "\n",
        "# 1. Split into training and testing data.\n",
        "boolean_mask = data_clean.columns.isin(['age', 'mother_education', 'father_education', 'traveltime', 'studytime', 'failures', 'famrel', 'freetime', 'going_out',\n",
        "       'workday_alcohol', 'weekend_alcohol', 'health', 'absences', 'grade_period1', 'grade_period2', 'school_GP', 'school_MS', 'sex_F', 'sex_M', 'address_R', 'address_U',\n",
        "       'family_size_GT3', 'family_size_LE3', 'parent_cohabition_status_A', 'parent_cohabition_status_T', 'mother_job_at_home', 'mother_job_health',\n",
        "       'mother_job_other', 'mother_job_services', 'mother_job_teacher', 'father_job_at_home', 'father_job_health', 'father_job_other','father_job_services', \n",
        "       'father_job_teacher', 'reason_course', 'reason_home', 'reason_other', 'reason_reputation', 'guardian_father', 'guardian_mother', 'guardian_other', \n",
        "       'school_support_yes','family_support_yes', 'paid_yes', 'extra_curricular_activities_yes', 'nursery_yes', 'higher_yes', 'internet_access_yes','romantic_yes'])\n",
        "sc = data_clean.columns[boolean_mask]\n",
        "X=data_clean[sc]\n",
        "\n",
        "boolean_mask_target = data_clean.columns.isin([\"final_grade\"])\n",
        "s = data_clean.columns[boolean_mask_target]\n",
        "y=data_clean[s]\n",
        "\n",
        "X_train, X_test, y_train, y_test = train_test_split(X, y, test_size=0.2, shuffle=True)\n",
        "\n",
        "# 2. Fit the model and get the accuracy.\n",
        "best_alpha_for_lasso = best_alpha(X_train, y_train)\n",
        "print(\"The alpha value we will use is:\", best_alpha_for_lasso)\n",
        "lasso_model=Lasso(alpha=best_alpha_for_lasso)\n",
        "lasso_model.fit(X_train, y_train)\n",
        "\n",
        "# 3. Make the predictions.\n",
        "y_pred = lasso_model.predict(X_test)\n",
        "\n",
        "\n",
        "# 4. Get the slope and the intercept. \n",
        "# y = mx + b, where m represents the slope and b represents the y-intercept.\n",
        "print(\"Slope\",lasso_model.coef_[0])\n",
        "print(\"Intercept:\",lasso_model.intercept_)\n",
        "print(\"\\n\")\n",
        "\n",
        "# 5. Evaluate the performance of our model\n",
        "# Method 1: mean squared error\n",
        "# Disadvantage it's difficult to evaluate the performance of the model using MSE as the value of MSE can vary from 0 to any larger number\n",
        "mse = mean_squared_error(y_test,y_pred)\n",
        "print(\"Mean squared error:\", mse)\n",
        "\n",
        "# Method 2: R2.\n",
        "# The value of R2 varies between 0 and 1. \n",
        "r2=lasso_model.score(X_test,y_test)\n",
        "\n",
        "print(\"R2:\",r2)\n",
        "\n",
        "\n",
        "# 6. Get Lasso coefficients and select a few features to improve the model accuracy\n",
        "sel = SelectFromModel(lasso_model)\n",
        "removed_features = X_train.columns[(sel.estimator.coef_ == 0).ravel().tolist()]\n",
        "chosen_features = X_train.columns[(sel.estimator.coef_ != 0).ravel().tolist()]\n",
        "\n",
        "print(\"\\n\", chosen_features)\n"
      ],
      "metadata": {
        "colab": {
          "base_uri": "https://localhost:8080/"
        },
        "id": "RNJltvi4aawY",
        "outputId": "b4b0c2b4-f0a8-40ca-870e-fdc789a04d5c"
      },
      "execution_count": 97,
      "outputs": [
        {
          "output_type": "stream",
          "name": "stdout",
          "text": [
            "The alpha value we will use is: 0.007\n",
            "Slope 0.06453538775793585\n",
            "Intercept: [-0.6546022]\n",
            "\n",
            "\n",
            "Mean squared error: 0.6046667401327356\n",
            "R2: 0.31466091362027004\n",
            "\n",
            " Index(['age', 'mother_education', 'father_education', 'traveltime',\n",
            "       'studytime', 'failures', 'famrel', 'freetime', 'going_out',\n",
            "       'workday_alcohol', 'weekend_alcohol', 'health', 'absences', 'school_GP',\n",
            "       'school_MS', 'sex_F', 'sex_M', 'address_R', 'family_size_GT3',\n",
            "       'family_size_LE3', 'parent_cohabition_status_A',\n",
            "       'parent_cohabition_status_T', 'mother_job_at_home', 'mother_job_health',\n",
            "       'mother_job_other', 'father_job_services', 'father_job_teacher',\n",
            "       'reason_other', 'reason_reputation', 'guardian_mother',\n",
            "       'guardian_other', 'school_support_yes', 'paid_yes',\n",
            "       'extra_curricular_activities_yes', 'nursery_yes', 'higher_yes',\n",
            "       'internet_access_yes', 'romantic_yes'],\n",
            "      dtype='object')\n"
          ]
        }
      ]
    },
    {
      "cell_type": "code",
      "source": [
        "# LASSO REGRESSION AFTER FEATURE SELECTION #\n",
        "\n",
        "boolean_mask = data_clean.columns.isin(chosen_features.tolist())\n",
        "sc = data_clean.columns[boolean_mask]\n",
        "X=data_clean[sc]\n",
        "\n",
        "boolean_mask_target = data_clean.columns.isin([\"final_grade\"])\n",
        "s = data_clean.columns[boolean_mask_target]\n",
        "y=data_clean[s]\n",
        "\n",
        "X_train, X_test, y_train, y_test = train_test_split(X, y, test_size=0.2, shuffle=True)\n",
        "\n",
        "# 2. Fit the model and get the accuracy.\n",
        "# best_alpha_for_lasso = best_alpha(X_train, y_train)\n",
        "# print(\"The alpha value we will use is:\", best_alpha_for_lasso)\n",
        "lasso_model=Lasso(alpha=best_alpha_for_lasso)\n",
        "lasso_model.fit(X_train, y_train)\n",
        "\n",
        "# 3. Make the predictions.\n",
        "y_pred = lasso_model.predict(X_test)\n",
        "\n",
        "# 4. Get the slope and the intercept. \n",
        "# y = mx + b, where m represents the slope and b represents the y-intercept.\n",
        "print(\"Slope\",lasso_model.coef_[0])\n",
        "print(\"Intercept:\",lasso_model.intercept_)\n",
        "print(\"\\n\")\n",
        "\n",
        "# 5. Evaluate the performance of our model\n",
        "# Method 1: mean squared error\n",
        "# Disadvantage it's difficult to evaluate the performance of the model using MSE as the value of MSE can vary from 0 to any larger number\n",
        "mse = mean_squared_error(y_test,y_pred)\n",
        "print(\"Mean squared error:\", mse)\n",
        "\n",
        "# Method 2: R2.\n",
        "# The value of R2 varies between 0 and 1. \n",
        "r2=lasso_model.score(X_test,y_test)\n",
        "print(\"R2:\",r2)\n"
      ],
      "metadata": {
        "colab": {
          "base_uri": "https://localhost:8080/"
        },
        "id": "Cc05nCV7s9b5",
        "outputId": "e84f63ac-4db0-4e3e-aa43-1819a8d79d3e"
      },
      "execution_count": 98,
      "outputs": [
        {
          "output_type": "stream",
          "name": "stdout",
          "text": [
            "Slope 0.0\n",
            "Intercept: [-0.61844332]\n",
            "\n",
            "\n",
            "Mean squared error: 0.8318064698922608\n",
            "R2: 0.06358098637552789\n"
          ]
        }
      ]
    },
    {
      "cell_type": "code",
      "source": [
        "plt.scatter(y_test, y_pred)\n",
        "plt.xlabel(\"Actual final grade\")\n",
        "plt.ylabel(\"Predicted final grade\")\n",
        "plt.plot(x, x, color='m')\n",
        "plt.title(\"Actual vs. predicted final grade, Lasso model\")\n",
        "plt.grid(alpha=0.5); plt.show()"
      ],
      "metadata": {
        "colab": {
          "base_uri": "https://localhost:8080/",
          "height": 295
        },
        "id": "I9yypZ2TlTls",
        "outputId": "2c557ca5-6288-460d-f6ea-0c26f7a32c16"
      },
      "execution_count": 99,
      "outputs": [
        {
          "output_type": "display_data",
          "data": {
            "text/plain": [
              "<Figure size 432x288 with 1 Axes>"
            ],
            "image/png": "[encoded data removed]"
          },
          "metadata": {
            "needs_background": "light"
          }
        }
      ]
    },
    {
      "cell_type": "code",
      "source": [
        "y_pred_rescaled = y_pred * data[\"final_grade\"].std() + data[\"final_grade\"].mean()\n",
        "# print(y_pred_rescaled)   # these are the predicted grades in their original form\n",
        "print(\"\\n\", \"Mean of predicted grades:\", y_pred_rescaled.mean())"
      ],
      "metadata": {
        "colab": {
          "base_uri": "https://localhost:8080/"
        },
        "id": "P0IdXEMUmfff",
        "outputId": "14a26de6-60fa-44c1-dce5-21e001734c39"
      },
      "execution_count": 100,
      "outputs": [
        {
          "output_type": "stream",
          "name": "stdout",
          "text": [
            "\n",
            " Mean of predicted grades: 12.116955025579795\n"
          ]
        }
      ]
    }
  ]
}