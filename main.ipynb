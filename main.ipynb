{
  "nbformat": 4,
  "nbformat_minor": 0,
  "metadata": {
    "colab": {
      "provenance": [],
      "authorship_tag": "ABX9TyNUvI9vVQbJGDw7dveg0C8V",
      "include_colab_link": true
    },
    "kernelspec": {
      "name": "python3",
      "display_name": "Python 3"
    },
    "language_info": {
      "name": "python"
    }
  },
  "cells": [
    {
      "cell_type": "markdown",
      "metadata": {
        "id": "view-in-github",
        "colab_type": "text"
      },
      "source": [
        "<a href=\"https://colab.research.google.com/github/Kajlid/Final-project-Machine_Learning/blob/main/main.ipynb\" target=\"_parent\"><img src=\"https://colab.research.google.com/assets/colab-badge.svg\" alt=\"Open In Colab\"/></a>"
      ]
    },
    {
      "cell_type": "markdown",
      "source": [
        "# **Predicting Grades Final code file**\n",
        "\n",
        "In this code file we have all our code for our predicting models. This includes, but not limeted to: Data clening, PCA, Feuter selection, Decision tree, lasso regresion, liner regresion, K-meansclustering, DBSCAN, and evaluations of our model.\n",
        " \n"
      ],
      "metadata": {
        "id": "ANwT3GaMZdn8"
      }
    },
    {
      "cell_type": "code",
      "execution_count": null,
      "metadata": {
        "id": "zrEDupuOZc6d"
      },
      "outputs": [],
      "source": []
    }
  ]
}