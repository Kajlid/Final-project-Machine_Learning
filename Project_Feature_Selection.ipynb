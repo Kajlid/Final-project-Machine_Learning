{
  "cells": [
    {
      "cell_type": "markdown",
      "metadata": {
        "id": "view-in-github",
        "colab_type": "text"
      },
      "source": [
        "<a href=\"https://colab.research.google.com/github/Kajlid/Final-project-Machine_Learning/blob/Magda/Project_Feature_Selection.ipynb\" target=\"_parent\"><img src=\"https://colab.research.google.com/assets/colab-badge.svg\" alt=\"Open In Colab\"/></a>"
      ]
    },
    {
      "cell_type": "code",
      "execution_count": 1,
      "metadata": {
        "id": "KDNPMCnItCl-"
      },
      "outputs": [],
      "source": [
        "# LIBRARIES #\n",
        "import pandas as pd\n",
        "import numpy as np\n",
        "import matplotlib as plt\n",
        "import matplotlib.pyplot as plt\n",
        "import seaborn as sns\n",
        "import os\n",
        "import warnings\n",
        "import io\n",
        "import sklearn\n",
        "import sklearn.metrics  as metrics\n",
        "from google.colab import files\n",
        "import sklearn.cluster as cluster\n",
        "from sklearn.cluster import KMeans\n",
        "from sklearn.decomposition import PCA\n",
        "from sklearn.model_selection import KFold\n",
        "from sklearn.model_selection import cross_val_score\n",
        "from sklearn.model_selection import GridSearchCV\n",
        "from sklearn.linear_model import LinearRegression\n",
        "from sklearn.linear_model import Lasso\n",
        "from sklearn.metrics import mean_squared_error\n",
        "from sklearn.preprocessing import StandardScaler\n",
        "from sklearn.model_selection import train_test_split, StratifiedKFold, cross_validate\n",
        "from sklearn.neighbors import KNeighborsClassifier\n",
        "from sklearn.metrics import accuracy_score, classification_report\n",
        "from sklearn.naive_bayes import CategoricalNB, GaussianNB\n",
        "from sklearn.preprocessing import LabelEncoder\n",
        "from sklearn.feature_selection import SelectKBest, chi2, f_classif\n",
        "from sklearn.metrics import accuracy_score, classification_report, confusion_matrix\n",
        "%matplotlib inline"
      ]
    },
    {
      "cell_type": "code",
      "execution_count": 2,
      "metadata": {
        "id": "kowRfnwMtM0o",
        "colab": {
          "base_uri": "https://localhost:8080/",
          "height": 71
        },
        "outputId": "2e506f73-c32b-4c0b-9a03-e03317ff5f25"
      },
      "outputs": [
        {
          "output_type": "display_data",
          "data": {
            "text/plain": [
              "<IPython.core.display.HTML object>"
            ],
            "text/html": [
              "\n",
              "     <input type=\"file\" id=\"files-4fa338f6-4155-4980-a1f4-ad5401913db3\" name=\"files[]\" multiple disabled\n",
              "        style=\"border:none\" />\n",
              "     <output id=\"result-4fa338f6-4155-4980-a1f4-ad5401913db3\">\n",
              "      Upload widget is only available when the cell has been executed in the\n",
              "      current browser session. Please rerun this cell to enable.\n",
              "      </output>\n",
              "      <script>// Copyright 2017 Google LLC\n",
              "//\n",
              "// Licensed under the Apache License, Version 2.0 (the \"License\");\n",
              "// you may not use this file except in compliance with the License.\n",
              "// You may obtain a copy of the License at\n",
              "//\n",
              "//      http://www.apache.org/licenses/LICENSE-2.0\n",
              "//\n",
              "// Unless required by applicable law or agreed to in writing, software\n",
              "// distributed under the License is distributed on an \"AS IS\" BASIS,\n",
              "// WITHOUT WARRANTIES OR CONDITIONS OF ANY KIND, either express or implied.\n",
              "// See the License for the specific language governing permissions and\n",
              "// limitations under the License.\n",
              "\n",
              "/**\n",
              " * @fileoverview Helpers for google.colab Python module.\n",
              " */\n",
              "(function(scope) {\n",
              "function span(text, styleAttributes = {}) {\n",
              "  const element = document.createElement('span');\n",
              "  element.textContent = text;\n",
              "  for (const key of Object.keys(styleAttributes)) {\n",
              "    element.style[key] = styleAttributes[key];\n",
              "  }\n",
              "  return element;\n",
              "}\n",
              "\n",
              "// Max number of bytes which will be uploaded at a time.\n",
              "const MAX_PAYLOAD_SIZE = 100 * 1024;\n",
              "\n",
              "function _uploadFiles(inputId, outputId) {\n",
              "  const steps = uploadFilesStep(inputId, outputId);\n",
              "  const outputElement = document.getElementById(outputId);\n",
              "  // Cache steps on the outputElement to make it available for the next call\n",
              "  // to uploadFilesContinue from Python.\n",
              "  outputElement.steps = steps;\n",
              "\n",
              "  return _uploadFilesContinue(outputId);\n",
              "}\n",
              "\n",
              "// This is roughly an async generator (not supported in the browser yet),\n",
              "// where there are multiple asynchronous steps and the Python side is going\n",
              "// to poll for completion of each step.\n",
              "// This uses a Promise to block the python side on completion of each step,\n",
              "// then passes the result of the previous step as the input to the next step.\n",
              "function _uploadFilesContinue(outputId) {\n",
              "  const outputElement = document.getElementById(outputId);\n",
              "  const steps = outputElement.steps;\n",
              "\n",
              "  const next = steps.next(outputElement.lastPromiseValue);\n",
              "  return Promise.resolve(next.value.promise).then((value) => {\n",
              "    // Cache the last promise value to make it available to the next\n",
              "    // step of the generator.\n",
              "    outputElement.lastPromiseValue = value;\n",
              "    return next.value.response;\n",
              "  });\n",
              "}\n",
              "\n",
              "/**\n",
              " * Generator function which is called between each async step of the upload\n",
              " * process.\n",
              " * @param {string} inputId Element ID of the input file picker element.\n",
              " * @param {string} outputId Element ID of the output display.\n",
              " * @return {!Iterable<!Object>} Iterable of next steps.\n",
              " */\n",
              "function* uploadFilesStep(inputId, outputId) {\n",
              "  const inputElement = document.getElementById(inputId);\n",
              "  inputElement.disabled = false;\n",
              "\n",
              "  const outputElement = document.getElementById(outputId);\n",
              "  outputElement.innerHTML = '';\n",
              "\n",
              "  const pickedPromise = new Promise((resolve) => {\n",
              "    inputElement.addEventListener('change', (e) => {\n",
              "      resolve(e.target.files);\n",
              "    });\n",
              "  });\n",
              "\n",
              "  const cancel = document.createElement('button');\n",
              "  inputElement.parentElement.appendChild(cancel);\n",
              "  cancel.textContent = 'Cancel upload';\n",
              "  const cancelPromise = new Promise((resolve) => {\n",
              "    cancel.onclick = () => {\n",
              "      resolve(null);\n",
              "    };\n",
              "  });\n",
              "\n",
              "  // Wait for the user to pick the files.\n",
              "  const files = yield {\n",
              "    promise: Promise.race([pickedPromise, cancelPromise]),\n",
              "    response: {\n",
              "      action: 'starting',\n",
              "    }\n",
              "  };\n",
              "\n",
              "  cancel.remove();\n",
              "\n",
              "  // Disable the input element since further picks are not allowed.\n",
              "  inputElement.disabled = true;\n",
              "\n",
              "  if (!files) {\n",
              "    return {\n",
              "      response: {\n",
              "        action: 'complete',\n",
              "      }\n",
              "    };\n",
              "  }\n",
              "\n",
              "  for (const file of files) {\n",
              "    const li = document.createElement('li');\n",
              "    li.append(span(file.name, {fontWeight: 'bold'}));\n",
              "    li.append(span(\n",
              "        `(${file.type || 'n/a'}) - ${file.size} bytes, ` +\n",
              "        `last modified: ${\n",
              "            file.lastModifiedDate ? file.lastModifiedDate.toLocaleDateString() :\n",
              "                                    'n/a'} - `));\n",
              "    const percent = span('0% done');\n",
              "    li.appendChild(percent);\n",
              "\n",
              "    outputElement.appendChild(li);\n",
              "\n",
              "    const fileDataPromise = new Promise((resolve) => {\n",
              "      const reader = new FileReader();\n",
              "      reader.onload = (e) => {\n",
              "        resolve(e.target.result);\n",
              "      };\n",
              "      reader.readAsArrayBuffer(file);\n",
              "    });\n",
              "    // Wait for the data to be ready.\n",
              "    let fileData = yield {\n",
              "      promise: fileDataPromise,\n",
              "      response: {\n",
              "        action: 'continue',\n",
              "      }\n",
              "    };\n",
              "\n",
              "    // Use a chunked sending to avoid message size limits. See b/62115660.\n",
              "    let position = 0;\n",
              "    do {\n",
              "      const length = Math.min(fileData.byteLength - position, MAX_PAYLOAD_SIZE);\n",
              "      const chunk = new Uint8Array(fileData, position, length);\n",
              "      position += length;\n",
              "\n",
              "      const base64 = btoa(String.fromCharCode.apply(null, chunk));\n",
              "      yield {\n",
              "        response: {\n",
              "          action: 'append',\n",
              "          file: file.name,\n",
              "          data: base64,\n",
              "        },\n",
              "      };\n",
              "\n",
              "      let percentDone = fileData.byteLength === 0 ?\n",
              "          100 :\n",
              "          Math.round((position / fileData.byteLength) * 100);\n",
              "      percent.textContent = `${percentDone}% done`;\n",
              "\n",
              "    } while (position < fileData.byteLength);\n",
              "  }\n",
              "\n",
              "  // All done.\n",
              "  yield {\n",
              "    response: {\n",
              "      action: 'complete',\n",
              "    }\n",
              "  };\n",
              "}\n",
              "\n",
              "scope.google = scope.google || {};\n",
              "scope.google.colab = scope.google.colab || {};\n",
              "scope.google.colab._files = {\n",
              "  _uploadFiles,\n",
              "  _uploadFilesContinue,\n",
              "};\n",
              "})(self);\n",
              "</script> "
            ]
          },
          "metadata": {}
        },
        {
          "output_type": "stream",
          "name": "stdout",
          "text": [
            "Saving student-por.csv to student-por.csv\n"
          ]
        }
      ],
      "source": [
        "# READ CSV #\n",
        "warnings.filterwarnings('ignore')\n",
        "uploaded = files.upload()\n",
        "data = pd.read_csv(io.BytesIO(uploaded['student-por.csv'])) "
      ]
    },
    {
      "cell_type": "code",
      "execution_count": 3,
      "metadata": {
        "id": "RxuRRRKztR-p"
      },
      "outputs": [],
      "source": [
        "# FIRST APPROACH TO THE DATASET #\n",
        "\n",
        "# columns names #\n",
        "data_names = ['school', 'sex', 'age', 'address', 'family_size', 'parent_cohabition_status', 'mother_education', 'father_education','mother_job', 'father_job', 'reason', 'guardian', 'traveltime', 'studytime', 'failures', 'school_support', 'family_support', 'paid', 'extra_curricular_activities', 'nursery', 'higher', 'internet_access', 'romantic', 'famrel', 'freetime', 'going_out', 'workday_alcohol', 'weekend_alcohol', 'health', 'absences','grade_period1', 'grade_period2', 'final_grade' ]\n",
        "data.columns = data_names\n",
        "\n",
        "# numerical vs categorical columns #\n",
        "numerical_columns = ['age', 'mother_education', 'father_education', 'traveltime', 'studytime', 'failures', 'famrel', 'freetime', 'going_out', 'workday_alcohol', 'weekend_alcohol', 'health', 'absences','grade_period1', 'grade_period2', 'final_grade']\n",
        "categorical_columns = [\"school\",\"sex\",'address', 'family_size', 'parent_cohabition_status','mother_job', 'father_job', 'reason', 'guardian',\"school_support\", \"family_support\",'paid', 'extra_curricular_activities', 'nursery', 'higher', 'internet_access', 'romantic']\n"
      ]
    },
    {
      "cell_type": "code",
      "execution_count": 4,
      "metadata": {
        "id": "U_lOXKQ7tWAC"
      },
      "outputs": [],
      "source": [
        "# CLEAN THE DATABASE # \n",
        "\n",
        "# 1. Drop the columns that we are not going to use.\n",
        "data_clean = data.drop(['grade_period1', 'grade_period2'], axis=1)\n",
        "\n",
        "# 2. Drop na's.\n",
        "data_clean=data.replace(r'^\\s*$', np.nan, regex=True)\n",
        "data_clean=data_clean.dropna(inplace=True)\n",
        "\n",
        "# 3. Get the dummies so that it is easier to work. \n",
        "# This is, transform the categorical columns into numerical ones. \n",
        "data_clean = pd.get_dummies(data, columns=categorical_columns)\n",
        "\n",
        "# 4. Transform the data. \n",
        "# we need to standarize the data to take into consideration variations in measurments, units and scales. \n",
        "scaler = StandardScaler()\n",
        "scaled_data = scaler.fit_transform(data_clean[numerical_columns])\n",
        "scaled_dataframe = pd.DataFrame(scaled_data, columns = numerical_columns)  \n",
        "scaled_dataframe.head()\n",
        "\n",
        "for column in numerical_columns:\n",
        "  data_clean.append(scaled_dataframe[column])\n",
        "  data_clean[column] = scaled_dataframe[column]"
      ]
    },
    {
      "cell_type": "code",
      "execution_count": 5,
      "metadata": {
        "id": "PiaM6AREVpHU",
        "colab": {
          "base_uri": "https://localhost:8080/"
        },
        "outputId": "7e98086f-43f7-409d-d33b-8f595806162d"
      },
      "outputs": [
        {
          "output_type": "stream",
          "name": "stdout",
          "text": [
            "Linear regression:\n",
            "Accuracy: 0.23602088784847575\n",
            "\n",
            "\n"
          ]
        },
        {
          "output_type": "execute_result",
          "data": {
            "text/plain": [
              "{'age': array([ 3.53472090e-02, -7.22293197e-04,  4.37468625e-02, -2.83965586e-02,\n",
              "         1.09948167e-01, -2.39191262e-01,  6.54186840e-02, -5.64390747e-02,\n",
              "        -3.74962586e-02, -1.05758973e-01,  6.15583940e-03, -6.82186307e-02,\n",
              "        -6.00392465e-02, -3.08979887e+11, -3.08979887e+11, -6.58260466e+10,\n",
              "        -6.58260466e+10, -1.05476828e+10, -1.05476828e+10, -4.47380298e+10,\n",
              "        -4.47380298e+10,  4.72403893e+10,  4.72403893e+10, -1.45446458e+11,\n",
              "        -1.45446458e+11, -1.45446458e+11, -1.45446458e+11, -1.45446458e+11,\n",
              "         4.14975692e+10,  4.14975692e+10,  4.14975692e+10,  4.14975692e+10,\n",
              "         4.14975692e+10,  7.89185163e+11,  7.89185163e+11,  7.89185163e+11,\n",
              "         7.89185163e+11, -6.23645550e+11, -6.23645550e+11, -6.23645550e+11,\n",
              "        -5.36274017e-01, -1.17700885e-02, -1.20740435e-01,  8.70892874e-02,\n",
              "        -6.89082361e-02,  4.60991488e-01,  6.58057520e-02, -1.26136215e-01])}"
            ]
          },
          "metadata": {},
          "execution_count": 5
        }
      ],
      "source": [
        "# LINEAR REGRESSION #\n",
        "\n",
        "# 1. Split into training and testing data.\n",
        "bm = data_clean.columns.isin(['age', 'mother_education', 'father_education', 'traveltime', 'studytime', 'failures', 'famrel', 'freetime', 'going_out',\n",
        "       'workday_alcohol', 'weekend_alcohol', 'health', 'absences', 'school_GP', 'school_MS', 'sex_F', 'sex_M', 'address_R', 'address_U',\n",
        "       'family_size_GT3', 'family_size_LE3', 'parent_cohabition_status_A', 'parent_cohabition_status_T', 'mother_job_at_home', 'mother_job_health',\n",
        "       'mother_job_other', 'mother_job_services', 'mother_job_teacher', 'father_job_at_home', 'father_job_health', 'father_job_other','father_job_services', \n",
        "       'father_job_teacher', 'reason_course', 'reason_home', 'reason_other', 'reason_reputation', 'guardian_father', 'guardian_mother', 'guardian_other', \n",
        "       'school_support_yes','family_support_yes', 'paid_yes', 'extra_curricular_activities_yes', 'nursery_yes', 'higher_yes', 'internet_access_yes','romantic_yes'])\n",
        "sc = data_clean.columns[bm]\n",
        "X=data_clean[sc]\n",
        "\n",
        "bm = data_clean.columns.isin([\"final_grade\"])\n",
        "s = data_clean.columns[bm]\n",
        "y=data_clean[s]\n",
        "\n",
        "X_train, X_test, y_train, y_test = train_test_split(X, y, test_size=0.3, shuffle=True)\n",
        "\n",
        "# 2. Fit the model and get the accuracy.\n",
        "linear_model=LinearRegression()\n",
        "linear_model.fit(X_train, y_train)\n",
        "print(\"Linear regression:\")\n",
        "print(\"Accuracy:\", linear_model.score(X_test,y_test))\n",
        "print(\"\\n\")\n",
        "\n",
        "# 3. Get the coefficients of the regression model:\n",
        "coefficient={}\n",
        "for coef, feat in zip(linear_model.coef_,X.columns):\n",
        "  coefficient[feat]=coef\n",
        "coefficient\n"
      ]
    },
    {
      "cell_type": "code",
      "execution_count": 9,
      "metadata": {
        "id": "RNJltvi4aawY",
        "colab": {
          "base_uri": "https://localhost:8080/"
        },
        "outputId": "7ce5c495-e315-4d73-9806-e1dfc1113201"
      },
      "outputs": [
        {
          "output_type": "stream",
          "name": "stdout",
          "text": [
            "Slope -0.0\n",
            "Intercept: [-0.04277325]\n",
            "\n",
            "\n",
            "Mean squared error: 0.8026994439517079\n",
            "R2: 0.1887496956745427\n"
          ]
        }
      ],
      "source": [
        "# LASSO REGRESSION #\n",
        "\n",
        "# 1. Split into training and testing data.\n",
        "bm = data_clean.columns.isin(['age', 'mother_education', 'father_education', 'traveltime', 'studytime', 'failures', 'famrel', 'freetime', 'going_out',\n",
        "       'workday_alcohol', 'weekend_alcohol', 'health', 'absences', 'school_GP', 'school_MS', 'sex_F', 'sex_M', 'address_R', 'address_U',\n",
        "       'family_size_GT3', 'family_size_LE3', 'parent_cohabition_status_A', 'parent_cohabition_status_T', 'mother_job_at_home', 'mother_job_health',\n",
        "       'mother_job_other', 'mother_job_services', 'mother_job_teacher', 'father_job_at_home', 'father_job_health', 'father_job_other','father_job_services', \n",
        "       'father_job_teacher', 'reason_course', 'reason_home', 'reason_other', 'reason_reputation', 'guardian_father', 'guardian_mother', 'guardian_other', \n",
        "       'school_support_yes','family_support_yes', 'paid_yes', 'extra_curricular_activities_yes', 'nursery_yes', 'higher_yes', 'internet_access_yes','romantic_yes'])\n",
        "sc = data_clean.columns[bm]\n",
        "X=data_clean[sc]\n",
        "\n",
        "bm = data_clean.columns.isin([\"final_grade\"])\n",
        "s = data_clean.columns[bm]\n",
        "y=data_clean[s]\n",
        "\n",
        "X_train, X_test, y_train, y_test = train_test_split(X, y, test_size=0.3, shuffle=True)\n",
        "\n",
        "# 2. Fit the model and get the accuracy.\n",
        "# Here we could use the function to get the best alpha. \n",
        "lasso_model=Lasso(alpha=0.1)\n",
        "lasso_model.fit(X_train, y_train)\n",
        "\n",
        "# 3. Make the predictions.\n",
        "y_pred = lasso_model.predict(X_test)\n",
        "\n",
        "# 4. Get the slope and the intercept. \n",
        "# y = mx + b, where m represents the slope and b represents the y-intercept.\n",
        "print(\"Slope\",lasso_model.coef_[0])\n",
        "print(\"Intercept:\",lasso_model.intercept_)\n",
        "print(\"\\n\")\n",
        "\n",
        "# 5. Evaluate the performance of our model\n",
        "# Method 1: mean squared error\n",
        "# Disadvantage it's difficult to evaluate the performance of the model using MSE as the value of MSE can vary from 0 to any larger number\n",
        "mse = mean_squared_error(y_test,y_pred)\n",
        "print(\"Mean squared error:\", mse)\n",
        "\n",
        "# Method 2: R2.\n",
        "# The value of R2 varies between 0 and 1. \n",
        "r2=lasso_model.score(X_test,y_test)\n",
        "print(\"R2:\",r2)"
      ]
    },
    {
      "cell_type": "code",
      "source": [
        "# FEATURE SELECTION # \n",
        "\n",
        "bm = data_clean.columns.isin(['age', 'mother_education', 'father_education', 'traveltime', 'studytime', 'failures', 'famrel', 'freetime', 'going_out',\n",
        "       'workday_alcohol', 'weekend_alcohol', 'health', 'absences', 'school_GP', 'school_MS', 'sex_F', 'sex_M', 'address_R', 'address_U',\n",
        "       'family_size_GT3', 'family_size_LE3', 'parent_cohabition_status_A', 'parent_cohabition_status_T', 'mother_job_at_home', 'mother_job_health',\n",
        "       'mother_job_other', 'mother_job_services', 'mother_job_teacher', 'father_job_at_home', 'father_job_health', 'father_job_other','father_job_services', \n",
        "       'father_job_teacher', 'reason_course', 'reason_home', 'reason_other', 'reason_reputation', 'guardian_father', 'guardian_mother', 'guardian_other', \n",
        "       'school_support_yes','family_support_yes', 'paid_yes', 'extra_curricular_activities_yes', 'nursery_yes', 'higher_yes', 'internet_access_yes','romantic_yes'])\n",
        "sc = data_clean.columns[bm]\n",
        "X=data_clean[sc]\n",
        "\n",
        "bm = data_clean.columns.isin([\"final_grade\"])\n",
        "s = data_clean.columns[bm]\n",
        "y=data_clean[s]\n",
        "\n",
        "D = 8\n",
        "est = SelectKBest(f_classif,k=D)\n",
        "X_new = est.fit_transform(X, y)\n",
        "sup = est.get_support()\n",
        "featurenames = X.columns\n",
        "print(\"Features selected are:\")\n",
        "for nn in np.where(sup)[0]:\n",
        "  print(featurenames[nn])\n"
      ],
      "metadata": {
        "colab": {
          "base_uri": "https://localhost:8080/"
        },
        "id": "F9GXFPHF0Llz",
        "outputId": "63458010-600e-4d9a-9779-b55153fb834c"
      },
      "execution_count": 6,
      "outputs": [
        {
          "output_type": "stream",
          "name": "stdout",
          "text": [
            "Features selected are:\n",
            "age\n",
            "mother_education\n",
            "father_education\n",
            "failures\n",
            "workday_alcohol\n",
            "school_GP\n",
            "school_MS\n",
            "higher_yes\n"
          ]
        }
      ]
    },
    {
      "cell_type": "code",
      "source": [
        "# LINEAR REGRESSION WITH FEATURES SELECTED #\n",
        "\n",
        "# 1. Split into training and testing data.\n",
        "bm = data_clean.columns.isin([\"failures\",\"school_MS\",\"higher_yes\",\"age\", \"mother_education\",\"father_education\",\"school_GP\",\"workday_alcohol\"])\n",
        "sc = data_clean.columns[bm]\n",
        "X=data_clean[sc]\n",
        "\n",
        "bm = data_clean.columns.isin([\"final_grade\"])\n",
        "s = data_clean.columns[bm]\n",
        "y=data_clean[s]\n",
        "\n",
        "X_train, X_test, y_train, y_test = train_test_split(X, y, test_size=0.3, shuffle=True)\n",
        "\n",
        "# 2. Fit the model and get the accuracy.\n",
        "linear_model=LinearRegression()\n",
        "linear_model.fit(X_train, y_train)\n",
        "print(\"Linear regression:\")\n",
        "print(\"Accuracy:\", linear_model.score(X_test,y_test))\n",
        "print(\"\\n\")\n",
        "\n",
        "# 3. Plot the result.\n",
        "bm = data_clean.columns.isin([\"failures\"])\n",
        "sc = data_clean.columns[bm]\n",
        "failures=data_clean[sc]\n",
        "plt.scatter(failures,y)\n",
        "plt.xlabel(\"Failures\")\n",
        "plt.ylabel(\"Final grade\")"
      ],
      "metadata": {
        "id": "piUJJIAB1aaC",
        "colab": {
          "base_uri": "https://localhost:8080/",
          "height": 366
        },
        "outputId": "fd74b171-33f9-4402-8533-d985c0d17d92"
      },
      "execution_count": 7,
      "outputs": [
        {
          "output_type": "stream",
          "name": "stdout",
          "text": [
            "Linear regression:\n",
            "Accuracy: 0.29839917798886606\n",
            "\n",
            "\n"
          ]
        },
        {
          "output_type": "execute_result",
          "data": {
            "text/plain": [
              "Text(0, 0.5, 'Final grade')"
            ]
          },
          "metadata": {},
          "execution_count": 7
        },
        {
          "output_type": "display_data",
          "data": {
            "text/plain": [
              "<Figure size 432x288 with 1 Axes>"
            ],
            "image/png": "[encoded data removed]"
          },
          "metadata": {
            "needs_background": "light"
          }
        }
      ]
    },
    {
      "cell_type": "code",
      "source": [
        "# LASSO REGRESION WITH FEATURES SELECTED #\n",
        "\n",
        "# 1. Split into training and testing data.\n",
        "bm = data_clean.columns.isin([\"failures\",\"school_MS\",\"higher_yes\",\"age\", \"mother_education\",\"father_education\",\"school_GP\",\"workday_alcohol\"])\n",
        "sc = data_clean.columns[bm]\n",
        "X=data_clean[sc]\n",
        "\n",
        "bm = data_clean.columns.isin([\"final_grade\"])\n",
        "s = data_clean.columns[bm]\n",
        "y=data_clean[s]\n",
        "\n",
        "X_train, X_test, y_train, y_test = train_test_split(X, y, test_size=0.3, shuffle=True)\n",
        "\n",
        "# 2. Fit the model and get the accuracy.\n",
        "# Here we could use the function to get the best alpha. \n",
        "lasso_model=Lasso(alpha=0.1)\n",
        "lasso_model.fit(X_train, y_train)\n",
        "\n",
        "# 3. Make the predictions.\n",
        "y_pred = lasso_model.predict(X_test)\n",
        "\n",
        "# 4. Get the slope and the intercept. \n",
        "# y = mx + b, where m represents the slope and b represents the y-intercept.\n",
        "print(\"Slope\",lasso_model.coef_[0])\n",
        "print(\"Intercept:\",lasso_model.intercept_)\n",
        "print(\"\\n\")\n",
        "\n",
        "# 5. Evaluate the performance of our model\n",
        "# Method 1: mean squared error\n",
        "# Disadvantage it's difficult to evaluate the performance of the model using MSE as the value of MSE can vary from 0 to any larger number\n",
        "mse = mean_squared_error(y_test,y_pred)\n",
        "print(\"Mean squared error:\", mse)\n",
        "\n",
        "# Method 2: R2.\n",
        "# The value of R2 varies between 0 and 1. \n",
        "r2=lasso_model.score(X_test,y_test)\n",
        "print(\"R2:\",r2)"
      ],
      "metadata": {
        "id": "azb_di3b2_AG",
        "colab": {
          "base_uri": "https://localhost:8080/"
        },
        "outputId": "b1ac6b4d-b209-49c2-827f-d99cb50eede3"
      },
      "execution_count": 8,
      "outputs": [
        {
          "output_type": "stream",
          "name": "stdout",
          "text": [
            "Slope -0.0\n",
            "Intercept: [-0.0002409]\n",
            "\n",
            "\n",
            "Mean squared error: 0.8252604072018707\n",
            "R2: 0.16264239917669543\n"
          ]
        }
      ]
    }
  ],
  "metadata": {
    "colab": {
      "provenance": [],
      "authorship_tag": "ABX9TyOoIZ1PAvxX5fhdmi5AaEwc",
      "include_colab_link": true
    },
    "kernelspec": {
      "display_name": "Python 3",
      "name": "python3"
    },
    "language_info": {
      "name": "python"
    }
  },
  "nbformat": 4,
  "nbformat_minor": 0
}