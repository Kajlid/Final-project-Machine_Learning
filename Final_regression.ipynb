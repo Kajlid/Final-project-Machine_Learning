{
  "nbformat": 4,
  "nbformat_minor": 0,
  "metadata": {
    "colab": {
      "provenance": []
    },
    "kernelspec": {
      "name": "python3",
      "display_name": "Python 3"
    },
    "language_info": {
      "name": "python"
    }
  },
  "cells": [
    {
      "cell_type": "code",
      "execution_count": null,
      "metadata": {
        "id": "KDNPMCnItCl-"
      },
      "outputs": [],
      "source": [
        "# LIBRARIES #\n",
        "import pandas as pd\n",
        "import numpy as np\n",
        "import matplotlib as plt\n",
        "import matplotlib.pyplot as plt\n",
        "import seaborn as sns\n",
        "import warnings\n",
        "import io\n",
        "import sklearn\n",
        "import sklearn.metrics  as metrics\n",
        "import sklearn.cluster as cluster\n",
        "from sklearn.cluster import KMeans\n",
        "from sklearn.decomposition import PCA\n",
        "from sklearn.model_selection import train_test_split, StratifiedKFold, cross_validate, KFold, cross_val_score, GridSearchCV\n",
        "from sklearn.feature_selection import SelectFromModel, RFE\n",
        "from sklearn.linear_model import LinearRegression, Lasso, LassoCV\n",
        "from sklearn.metrics import mean_squared_error, accuracy_score, classification_report, mean_squared_error, r2_score\n",
        "from sklearn.preprocessing import StandardScaler\n",
        "from sklearn.neighbors import KNeighborsClassifier\n",
        "%matplotlib inline"
      ]
    },
    {
      "cell_type": "code",
      "source": [
        "# READ CSV #\n",
        "warnings.filterwarnings('ignore')\n",
        "data = pd.read_csv('/content/student-por.csv', sep=\",\")"
      ],
      "metadata": {
        "id": "kowRfnwMtM0o"
      },
      "execution_count": null,
      "outputs": []
    },
    {
      "cell_type": "code",
      "source": [
        "data.describe()"
      ],
      "metadata": {
        "colab": {
          "base_uri": "https://localhost:8080/",
          "height": 361
        },
        "id": "1aVMK9WGoESz",
        "outputId": "8c7bc00d-a114-4546-c062-e7aeacd12083"
      },
      "execution_count": null,
      "outputs": [
        {
          "output_type": "execute_result",
          "data": {
            "text/plain": [
              "              age        Medu        Fedu  traveltime   studytime    failures  \\\n",
              "count  649.000000  649.000000  649.000000  649.000000  649.000000  649.000000   \n",
              "mean    16.744222    2.514638    2.306626    1.568567    1.930663    0.221880   \n",
              "std      1.218138    1.134552    1.099931    0.748660    0.829510    0.593235   \n",
              "min     15.000000    0.000000    0.000000    1.000000    1.000000    0.000000   \n",
              "25%     16.000000    2.000000    1.000000    1.000000    1.000000    0.000000   \n",
              "50%     17.000000    2.000000    2.000000    1.000000    2.000000    0.000000   \n",
              "75%     18.000000    4.000000    3.000000    2.000000    2.000000    0.000000   \n",
              "max     22.000000    4.000000    4.000000    4.000000    4.000000    3.000000   \n",
              "\n",
              "           famrel    freetime       goout        Dalc        Walc      health  \\\n",
              "count  649.000000  649.000000  649.000000  649.000000  649.000000  649.000000   \n",
              "mean     3.930663    3.180277    3.184900    1.502311    2.280431    3.536210   \n",
              "std      0.955717    1.051093    1.175766    0.924834    1.284380    1.446259   \n",
              "min      1.000000    1.000000    1.000000    1.000000    1.000000    1.000000   \n",
              "25%      4.000000    3.000000    2.000000    1.000000    1.000000    2.000000   \n",
              "50%      4.000000    3.000000    3.000000    1.000000    2.000000    4.000000   \n",
              "75%      5.000000    4.000000    4.000000    2.000000    3.000000    5.000000   \n",
              "max      5.000000    5.000000    5.000000    5.000000    5.000000    5.000000   \n",
              "\n",
              "         absences          G1          G2          G3  \n",
              "count  649.000000  649.000000  649.000000  649.000000  \n",
              "mean     3.659476   11.399076   11.570108   11.906009  \n",
              "std      4.640759    2.745265    2.913639    3.230656  \n",
              "min      0.000000    0.000000    0.000000    0.000000  \n",
              "25%      0.000000   10.000000   10.000000   10.000000  \n",
              "50%      2.000000   11.000000   11.000000   12.000000  \n",
              "75%      6.000000   13.000000   13.000000   14.000000  \n",
              "max     32.000000   19.000000   19.000000   19.000000  "
            ],
            "text/html": [
              "\n",
              "  <div id=\"df-77a3b167-fea2-48ce-ba50-5690ed3b3dd5\">\n",
              "    <div class=\"colab-df-container\">\n",
              "      <div>\n",
              "<style scoped>\n",
              "    .dataframe tbody tr th:only-of-type {\n",
              "        vertical-align: middle;\n",
              "    }\n",
              "\n",
              "    .dataframe tbody tr th {\n",
              "        vertical-align: top;\n",
              "    }\n",
              "\n",
              "    .dataframe thead th {\n",
              "        text-align: right;\n",
              "    }\n",
              "</style>\n",
              "<table border=\"1\" class=\"dataframe\">\n",
              "  <thead>\n",
              "    <tr style=\"text-align: right;\">\n",
              "      <th></th>\n",
              "      <th>age</th>\n",
              "      <th>Medu</th>\n",
              "      <th>Fedu</th>\n",
              "      <th>traveltime</th>\n",
              "      <th>studytime</th>\n",
              "      <th>failures</th>\n",
              "      <th>famrel</th>\n",
              "      <th>freetime</th>\n",
              "      <th>goout</th>\n",
              "      <th>Dalc</th>\n",
              "      <th>Walc</th>\n",
              "      <th>health</th>\n",
              "      <th>absences</th>\n",
              "      <th>G1</th>\n",
              "      <th>G2</th>\n",
              "      <th>G3</th>\n",
              "    </tr>\n",
              "  </thead>\n",
              "  <tbody>\n",
              "    <tr>\n",
              "      <th>count</th>\n",
              "      <td>649.000000</td>\n",
              "      <td>649.000000</td>\n",
              "      <td>649.000000</td>\n",
              "      <td>649.000000</td>\n",
              "      <td>649.000000</td>\n",
              "      <td>649.000000</td>\n",
              "      <td>649.000000</td>\n",
              "      <td>649.000000</td>\n",
              "      <td>649.000000</td>\n",
              "      <td>649.000000</td>\n",
              "      <td>649.000000</td>\n",
              "      <td>649.000000</td>\n",
              "      <td>649.000000</td>\n",
              "      <td>649.000000</td>\n",
              "      <td>649.000000</td>\n",
              "      <td>649.000000</td>\n",
              "    </tr>\n",
              "    <tr>\n",
              "      <th>mean</th>\n",
              "      <td>16.744222</td>\n",
              "      <td>2.514638</td>\n",
              "      <td>2.306626</td>\n",
              "      <td>1.568567</td>\n",
              "      <td>1.930663</td>\n",
              "      <td>0.221880</td>\n",
              "      <td>3.930663</td>\n",
              "      <td>3.180277</td>\n",
              "      <td>3.184900</td>\n",
              "      <td>1.502311</td>\n",
              "      <td>2.280431</td>\n",
              "      <td>3.536210</td>\n",
              "      <td>3.659476</td>\n",
              "      <td>11.399076</td>\n",
              "      <td>11.570108</td>\n",
              "      <td>11.906009</td>\n",
              "    </tr>\n",
              "    <tr>\n",
              "      <th>std</th>\n",
              "      <td>1.218138</td>\n",
              "      <td>1.134552</td>\n",
              "      <td>1.099931</td>\n",
              "      <td>0.748660</td>\n",
              "      <td>0.829510</td>\n",
              "      <td>0.593235</td>\n",
              "      <td>0.955717</td>\n",
              "      <td>1.051093</td>\n",
              "      <td>1.175766</td>\n",
              "      <td>0.924834</td>\n",
              "      <td>1.284380</td>\n",
              "      <td>1.446259</td>\n",
              "      <td>4.640759</td>\n",
              "      <td>2.745265</td>\n",
              "      <td>2.913639</td>\n",
              "      <td>3.230656</td>\n",
              "    </tr>\n",
              "    <tr>\n",
              "      <th>min</th>\n",
              "      <td>15.000000</td>\n",
              "      <td>0.000000</td>\n",
              "      <td>0.000000</td>\n",
              "      <td>1.000000</td>\n",
              "      <td>1.000000</td>\n",
              "      <td>0.000000</td>\n",
              "      <td>1.000000</td>\n",
              "      <td>1.000000</td>\n",
              "      <td>1.000000</td>\n",
              "      <td>1.000000</td>\n",
              "      <td>1.000000</td>\n",
              "      <td>1.000000</td>\n",
              "      <td>0.000000</td>\n",
              "      <td>0.000000</td>\n",
              "      <td>0.000000</td>\n",
              "      <td>0.000000</td>\n",
              "    </tr>\n",
              "    <tr>\n",
              "      <th>25%</th>\n",
              "      <td>16.000000</td>\n",
              "      <td>2.000000</td>\n",
              "      <td>1.000000</td>\n",
              "      <td>1.000000</td>\n",
              "      <td>1.000000</td>\n",
              "      <td>0.000000</td>\n",
              "      <td>4.000000</td>\n",
              "      <td>3.000000</td>\n",
              "      <td>2.000000</td>\n",
              "      <td>1.000000</td>\n",
              "      <td>1.000000</td>\n",
              "      <td>2.000000</td>\n",
              "      <td>0.000000</td>\n",
              "      <td>10.000000</td>\n",
              "      <td>10.000000</td>\n",
              "      <td>10.000000</td>\n",
              "    </tr>\n",
              "    <tr>\n",
              "      <th>50%</th>\n",
              "      <td>17.000000</td>\n",
              "      <td>2.000000</td>\n",
              "      <td>2.000000</td>\n",
              "      <td>1.000000</td>\n",
              "      <td>2.000000</td>\n",
              "      <td>0.000000</td>\n",
              "      <td>4.000000</td>\n",
              "      <td>3.000000</td>\n",
              "      <td>3.000000</td>\n",
              "      <td>1.000000</td>\n",
              "      <td>2.000000</td>\n",
              "      <td>4.000000</td>\n",
              "      <td>2.000000</td>\n",
              "      <td>11.000000</td>\n",
              "      <td>11.000000</td>\n",
              "      <td>12.000000</td>\n",
              "    </tr>\n",
              "    <tr>\n",
              "      <th>75%</th>\n",
              "      <td>18.000000</td>\n",
              "      <td>4.000000</td>\n",
              "      <td>3.000000</td>\n",
              "      <td>2.000000</td>\n",
              "      <td>2.000000</td>\n",
              "      <td>0.000000</td>\n",
              "      <td>5.000000</td>\n",
              "      <td>4.000000</td>\n",
              "      <td>4.000000</td>\n",
              "      <td>2.000000</td>\n",
              "      <td>3.000000</td>\n",
              "      <td>5.000000</td>\n",
              "      <td>6.000000</td>\n",
              "      <td>13.000000</td>\n",
              "      <td>13.000000</td>\n",
              "      <td>14.000000</td>\n",
              "    </tr>\n",
              "    <tr>\n",
              "      <th>max</th>\n",
              "      <td>22.000000</td>\n",
              "      <td>4.000000</td>\n",
              "      <td>4.000000</td>\n",
              "      <td>4.000000</td>\n",
              "      <td>4.000000</td>\n",
              "      <td>3.000000</td>\n",
              "      <td>5.000000</td>\n",
              "      <td>5.000000</td>\n",
              "      <td>5.000000</td>\n",
              "      <td>5.000000</td>\n",
              "      <td>5.000000</td>\n",
              "      <td>5.000000</td>\n",
              "      <td>32.000000</td>\n",
              "      <td>19.000000</td>\n",
              "      <td>19.000000</td>\n",
              "      <td>19.000000</td>\n",
              "    </tr>\n",
              "  </tbody>\n",
              "</table>\n",
              "</div>\n",
              "      <button class=\"colab-df-convert\" onclick=\"convertToInteractive('df-77a3b167-fea2-48ce-ba50-5690ed3b3dd5')\"\n",
              "              title=\"Convert this dataframe to an interactive table.\"\n",
              "              style=\"display:none;\">\n",
              "        \n",
              "  <svg xmlns=\"http://www.w3.org/2000/svg\" height=\"24px\"viewBox=\"0 0 24 24\"\n",
              "       width=\"24px\">\n",
              "    <path d=\"M0 0h24v24H0V0z\" fill=\"none\"/>\n",
              "    <path d=\"M18.56 5.44l.94 2.06.94-2.06 2.06-.94-2.06-.94-.94-2.06-.94 2.06-2.06.94zm-11 1L8.5 8.5l.94-2.06 2.06-.94-2.06-.94L8.5 2.5l-.94 2.06-2.06.94zm10 10l.94 2.06.94-2.06 2.06-.94-2.06-.94-.94-2.06-.94 2.06-2.06.94z\"/><path d=\"M17.41 7.96l-1.37-1.37c-.4-.4-.92-.59-1.43-.59-.52 0-1.04.2-1.43.59L10.3 9.45l-7.72 7.72c-.78.78-.78 2.05 0 2.83L4 21.41c.39.39.9.59 1.41.59.51 0 1.02-.2 1.41-.59l7.78-7.78 2.81-2.81c.8-.78.8-2.07 0-2.86zM5.41 20L4 18.59l7.72-7.72 1.47 1.35L5.41 20z\"/>\n",
              "  </svg>\n",
              "      </button>\n",
              "      \n",
              "  <style>\n",
              "    .colab-df-container {\n",
              "      display:flex;\n",
              "      flex-wrap:wrap;\n",
              "      gap: 12px;\n",
              "    }\n",
              "\n",
              "    .colab-df-convert {\n",
              "      background-color: #E8F0FE;\n",
              "      border: none;\n",
              "      border-radius: 50%;\n",
              "      cursor: pointer;\n",
              "      display: none;\n",
              "      fill: #1967D2;\n",
              "      height: 32px;\n",
              "      padding: 0 0 0 0;\n",
              "      width: 32px;\n",
              "    }\n",
              "\n",
              "    .colab-df-convert:hover {\n",
              "      background-color: #E2EBFA;\n",
              "      box-shadow: 0px 1px 2px rgba(60, 64, 67, 0.3), 0px 1px 3px 1px rgba(60, 64, 67, 0.15);\n",
              "      fill: #174EA6;\n",
              "    }\n",
              "\n",
              "    [theme=dark] .colab-df-convert {\n",
              "      background-color: #3B4455;\n",
              "      fill: #D2E3FC;\n",
              "    }\n",
              "\n",
              "    [theme=dark] .colab-df-convert:hover {\n",
              "      background-color: #434B5C;\n",
              "      box-shadow: 0px 1px 3px 1px rgba(0, 0, 0, 0.15);\n",
              "      filter: drop-shadow(0px 1px 2px rgba(0, 0, 0, 0.3));\n",
              "      fill: #FFFFFF;\n",
              "    }\n",
              "  </style>\n",
              "\n",
              "      <script>\n",
              "        const buttonEl =\n",
              "          document.querySelector('#df-77a3b167-fea2-48ce-ba50-5690ed3b3dd5 button.colab-df-convert');\n",
              "        buttonEl.style.display =\n",
              "          google.colab.kernel.accessAllowed ? 'block' : 'none';\n",
              "\n",
              "        async function convertToInteractive(key) {\n",
              "          const element = document.querySelector('#df-77a3b167-fea2-48ce-ba50-5690ed3b3dd5');\n",
              "          const dataTable =\n",
              "            await google.colab.kernel.invokeFunction('convertToInteractive',\n",
              "                                                     [key], {});\n",
              "          if (!dataTable) return;\n",
              "\n",
              "          const docLinkHtml = 'Like what you see? Visit the ' +\n",
              "            '<a target=\"_blank\" href=https://colab.research.google.com/notebooks/data_table.ipynb>data table notebook</a>'\n",
              "            + ' to learn more about interactive tables.';\n",
              "          element.innerHTML = '';\n",
              "          dataTable['output_type'] = 'display_data';\n",
              "          await google.colab.output.renderOutput(dataTable, element);\n",
              "          const docLink = document.createElement('div');\n",
              "          docLink.innerHTML = docLinkHtml;\n",
              "          element.appendChild(docLink);\n",
              "        }\n",
              "      </script>\n",
              "    </div>\n",
              "  </div>\n",
              "  "
            ]
          },
          "metadata": {},
          "execution_count": 26
        }
      ]
    },
    {
      "cell_type": "code",
      "source": [
        "# FIRST APPROACH TO THE DATASET #\n",
        "\n",
        "# columns names #\n",
        "data_names = ['school', 'sex', 'age', 'address', 'family_size', 'parent_cohabition_status', 'mother_education', 'father_education','mother_job', 'father_job', 'reason', 'guardian', 'traveltime', 'studytime', 'failures', 'school_support', 'family_support', 'paid', 'extra_curricular_activities', 'nursery', 'higher', 'internet_access', 'romantic', 'famrel', 'freetime', 'going_out', 'workday_alcohol', 'weekend_alcohol', 'health', 'absences','grade_period1', 'grade_period2', 'final_grade' ]\n",
        "data.columns = data_names\n",
        "\n",
        "# numerical vs categorical columns #\n",
        "numerical_columns = ['age', 'mother_education', 'father_education', 'traveltime', 'studytime', 'failures', 'famrel', 'freetime', 'going_out', 'workday_alcohol', 'weekend_alcohol', 'health', 'absences', 'grade_period1','grade_period2', 'final_grade']\n",
        "categorical_columns = [\"school\",\"sex\",'address', 'family_size', 'parent_cohabition_status','mother_job', 'father_job', 'reason', 'guardian',\"school_support\", \"family_support\",'paid', 'extra_curricular_activities', 'nursery', 'higher', 'internet_access', 'romantic']\n"
      ],
      "metadata": {
        "id": "RxuRRRKztR-p"
      },
      "execution_count": null,
      "outputs": []
    },
    {
      "cell_type": "code",
      "source": [
        "# CLEAN THE DATABASE # \n",
        "\n",
        "# 3. Get the dummies so that it is easier to work. \n",
        "# This is, transform the categorical columns into numerical ones. \n",
        "data_clean = pd.get_dummies(data, columns=categorical_columns)\n",
        "\n",
        "# 4. Transform the data. \n",
        "# we need to standarize the data to take into consideration variations in measurments, units and scales. \n",
        "scaler = StandardScaler()\n",
        "scaled_data = scaler.fit_transform(data[numerical_columns])\n",
        "scaled_dataframe = pd.DataFrame(scaled_data, columns = numerical_columns)  \n",
        "scaled_dataframe.head()\n",
        "\n",
        "for column in numerical_columns:\n",
        "  data_clean.append(scaled_dataframe[column])\n",
        "  data_clean[column] = scaled_dataframe[column]"
      ],
      "metadata": {
        "id": "U_lOXKQ7tWAC"
      },
      "execution_count": null,
      "outputs": []
    },
    {
      "cell_type": "code",
      "source": [
        "# LINEAR REGRESSION #\n",
        "\n",
        "# 1. Split into training, testing and validation data.\n",
        "boolean_mask = data_clean.columns.isin(['age', 'mother_education', 'father_education', 'traveltime', 'studytime', 'failures', 'famrel', 'freetime', 'going_out',\n",
        "       'workday_alcohol', 'weekend_alcohol', 'health', 'absences', 'grade_period1', 'grade_period2', 'school_GP', 'school_MS', 'sex_F', 'sex_M', 'address_R', 'address_U',\n",
        "       'family_size_GT3', 'family_size_LE3', 'parent_cohabition_status_A', 'parent_cohabition_status_T', 'mother_job_at_home', 'mother_job_health',\n",
        "       'mother_job_other', 'mother_job_services', 'mother_job_teacher', 'father_job_at_home', 'father_job_health', 'father_job_other','father_job_services', \n",
        "       'father_job_teacher', 'reason_course', 'reason_home', 'reason_other', 'reason_reputation', 'guardian_father', 'guardian_mother', 'guardian_other', \n",
        "       'school_support_yes','family_support_yes', 'paid_yes', 'extra_curricular_activities_yes', 'nursery_yes', 'higher_yes', 'internet_access_yes','romantic_yes'])\n",
        "sc = data_clean.columns[boolean_mask]\n",
        "X=data_clean[sc]\n",
        "\n",
        "boolean_mask_target = data_clean.columns.isin([\"final_grade\"])\n",
        "s = data_clean.columns[boolean_mask_target]\n",
        "y=data_clean[s]\n",
        "\n",
        "X_train, X_test, y_train, y_test = train_test_split(X, y, test_size=0.2, shuffle=True)\n",
        "X_train, X_val, y_train, y_val = train_test_split(X_train, y_train, test_size=0.25, shuffle=True) # 0.25 x 0.8 = 0.2, validation set is 20% of training set\n",
        "\n",
        "# 2. Fit the model, get the prediction and get the accuracy.\n",
        "linear_model=LinearRegression()\n",
        "linear_model.fit(X_train, y_train)\n",
        "print(\"Linear regression:\")\n",
        "\n",
        "y_pred = linear_model.predict(X_val)\n",
        "\n",
        "print(\"Accuracy:\", linear_model.score(X_val,y_val))   # linear_model.score uses R-squared metric by default\n",
        "\n",
        "mse_tot = mean_squared_error(y_val, y_val)  \n",
        "\n",
        "print(\"Mean squared error: %.10f\" % mse_tot)  \n",
        "\n",
        "# 3. Get the coefficients of the regression model:\n",
        "coefficient={}\n",
        "for feat in X_train.columns:\n",
        "  coefficient[feat]=linear_model.coef_\n",
        "\n",
        "# print(coefficient[\"traveltime\"])\n"
      ],
      "metadata": {
        "colab": {
          "base_uri": "https://localhost:8080/"
        },
        "id": "PiaM6AREVpHU",
        "outputId": "1c0e7f36-75d2-424e-bd7e-4dd0a1f86346"
      },
      "execution_count": null,
      "outputs": [
        {
          "output_type": "stream",
          "name": "stdout",
          "text": [
            "Linear regression:\n",
            "Accuracy: 0.9152895804364491\n",
            "Mean squared error: 0.0000000000\n"
          ]
        }
      ]
    },
    {
      "cell_type": "code",
      "source": [
        "# TESTING ON UNSEEN DATA #\n",
        "\n",
        "y_pred_new = linear_model.predict(X_test)\n",
        "\n",
        "print(\"Accuracy:\", linear_model.score(X_test,y_test))   # linear_model.score uses R-squared metric by default\n",
        "\n",
        "mse_tot = mean_squared_error(y_test, y_test)  \n",
        "\n",
        "print(\"Mean squared error: %.10f\" % mse_tot)  "
      ],
      "metadata": {
        "colab": {
          "base_uri": "https://localhost:8080/"
        },
        "id": "UPKz4zxKwNk4",
        "outputId": "f31f9b48-f9f1-4691-f0e7-fe082d32ae2b"
      },
      "execution_count": null,
      "outputs": [
        {
          "output_type": "stream",
          "name": "stdout",
          "text": [
            "Accuracy: 0.8446513887048444\n",
            "Mean squared error: 0.0000000000\n"
          ]
        }
      ]
    },
    {
      "cell_type": "code",
      "source": [
        "coef = coefficient[\"grade_period1\"]\n",
        "\n",
        "print('Coefficients are: b =', linear_model.intercept_, \"and m =\", coef)\n",
        "\n",
        "plt.scatter(X_test[\"grade_period1\"], y_test, color=\"blue\", label=\"Actual datapoints\")    # The actual data \n",
        "\n",
        "plt.plot(X_test[\"grade_period1\"], y_pred_new, color=\"red\", label=\"Predicted final grade\")   # The predicted relationship\n",
        "\n",
        "plt.title(\"Linear regression prediction of how first period grade affects final grade\")\n",
        "\n",
        "plt.xlabel(\"First period grade\")\n",
        "plt.ylabel(\"Final grade\")\n",
        "\n",
        "plt.legend()\n",
        "\n",
        "plt.grid(); plt.show()"
      ],
      "metadata": {
        "colab": {
          "base_uri": "https://localhost:8080/",
          "height": 536
        },
        "id": "D-v3Zj3z10-8",
        "outputId": "158de309-0bdf-4406-ffb6-370341a70e55"
      },
      "execution_count": null,
      "outputs": [
        {
          "output_type": "stream",
          "name": "stdout",
          "text": [
            "Coefficients are: b = [4.25453536e+11] and m = [[ 1.53447461e-02 -3.57499733e-02  2.09077675e-02  4.39466394e-02\n",
            "  -7.28211025e-03 -6.67463683e-02  1.66121335e-02 -3.37110621e-02\n",
            "  -7.99834504e-03  5.99885964e-03 -3.71768575e-02 -5.46298858e-02\n",
            "   2.80406199e-02  1.28112029e-01  7.49039827e-01  1.17067264e+11\n",
            "   1.17067264e+11 -3.79730041e+08 -3.79730041e+08 -1.82520268e+11\n",
            "  -1.82520268e+11 -3.65326563e+10 -3.65326563e+10  2.20485904e+11\n",
            "   2.20485904e+11  1.59617501e+11  1.59617501e+11  1.59617501e+11\n",
            "   1.59617501e+11  1.59617501e+11 -1.25591404e+11 -1.25591404e+11\n",
            "  -1.25591404e+11 -1.25591404e+11 -1.25591404e+11 -5.03532126e+10\n",
            "  -5.03532126e+10 -5.03532126e+10 -5.03532126e+10 -5.27246934e+11\n",
            "  -5.27246934e+11 -5.27246934e+11 -6.08059846e-02  2.15461906e-02\n",
            "  -2.65824080e-03  5.97336886e-03 -6.51510070e-02  8.17238943e-02\n",
            "   4.24500008e-03 -3.67526320e-02]]\n"
          ]
        },
        {
          "output_type": "display_data",
          "data": {
            "text/plain": [
              "<Figure size 432x288 with 1 Axes>"
            ],
            "image/png": "[encoded data removed]"
          },
          "metadata": {
            "needs_background": "light"
          }
        }
      ]
    },
    {
      "cell_type": "code",
      "source": [
        "# PLOTTING THE PREDICTION #\n",
        "\n",
        "coef = coefficient[\"grade_period2\"]\n",
        "\n",
        "print('Coefficients are: b =', linear_model.intercept_, \"and m =\", coef)\n",
        "\n",
        "plt.scatter(X_test[\"grade_period2\"], y_test, color=\"blue\", label=\"Actual datapoints\")    # The actual data \n",
        "\n",
        "plt.plot(X_test[\"grade_period2\"], y_pred_new, color=\"red\", label=\"Predicted final grade\")   # The predicted relationship\n",
        "\n",
        "plt.title(\"Linear regression prediction of how second period grade affects final grade\")\n",
        "\n",
        "plt.xlabel(\"Second period grade\")\n",
        "plt.ylabel(\"Final grade\")\n",
        "\n",
        "plt.legend()\n",
        "\n",
        "plt.grid(); plt.show()"
      ],
      "metadata": {
        "colab": {
          "base_uri": "https://localhost:8080/",
          "height": 536
        },
        "id": "U_SxbbULTbbh",
        "outputId": "c42ff46b-e5ff-477e-fa89-115bd25ed7f0"
      },
      "execution_count": null,
      "outputs": [
        {
          "output_type": "stream",
          "name": "stdout",
          "text": [
            "Coefficients are: b = [4.25453536e+11] and m = [[ 1.53447461e-02 -3.57499733e-02  2.09077675e-02  4.39466394e-02\n",
            "  -7.28211025e-03 -6.67463683e-02  1.66121335e-02 -3.37110621e-02\n",
            "  -7.99834504e-03  5.99885964e-03 -3.71768575e-02 -5.46298858e-02\n",
            "   2.80406199e-02  1.28112029e-01  7.49039827e-01  1.17067264e+11\n",
            "   1.17067264e+11 -3.79730041e+08 -3.79730041e+08 -1.82520268e+11\n",
            "  -1.82520268e+11 -3.65326563e+10 -3.65326563e+10  2.20485904e+11\n",
            "   2.20485904e+11  1.59617501e+11  1.59617501e+11  1.59617501e+11\n",
            "   1.59617501e+11  1.59617501e+11 -1.25591404e+11 -1.25591404e+11\n",
            "  -1.25591404e+11 -1.25591404e+11 -1.25591404e+11 -5.03532126e+10\n",
            "  -5.03532126e+10 -5.03532126e+10 -5.03532126e+10 -5.27246934e+11\n",
            "  -5.27246934e+11 -5.27246934e+11 -6.08059846e-02  2.15461906e-02\n",
            "  -2.65824080e-03  5.97336886e-03 -6.51510070e-02  8.17238943e-02\n",
            "   4.24500008e-03 -3.67526320e-02]]\n"
          ]
        },
        {
          "output_type": "display_data",
          "data": {
            "text/plain": [
              "<Figure size 432x288 with 1 Axes>"
            ],
            "image/png": "[encoded data removed]"
          },
          "metadata": {
            "needs_background": "light"
          }
        }
      ]
    },
    {
      "cell_type": "code",
      "source": [
        "coef = coefficient[\"failures\"]\n",
        "\n",
        "print('Coefficients are: b =', linear_model.intercept_, \"and m =\", coef)\n",
        "\n",
        "plt.scatter(X_test[\"failures\"], y_test, color=\"blue\", label=\"Actual datapoints\")\n",
        "\n",
        "plt.plot(X_test[\"failures\"], y_pred_new, color=\"red\", label=\"Predicted final grade\")\n",
        "\n",
        "plt.title(\"Linear regression prediction of how failures in previous courses affects final grade\")\n",
        "\n",
        "plt.xlabel(\"Failures in previous courses\")\n",
        "plt.ylabel(\"Final grade\")\n",
        "\n",
        "plt.legend()\n",
        "\n",
        "plt.grid(); plt.show()"
      ],
      "metadata": {
        "colab": {
          "base_uri": "https://localhost:8080/",
          "height": 536
        },
        "id": "5oL4IP9mVlmW",
        "outputId": "c9dc890b-1735-4380-89d5-2b7b44f2324b"
      },
      "execution_count": null,
      "outputs": [
        {
          "output_type": "stream",
          "name": "stdout",
          "text": [
            "Coefficients are: b = [4.25453536e+11] and m = [[ 1.53447461e-02 -3.57499733e-02  2.09077675e-02  4.39466394e-02\n",
            "  -7.28211025e-03 -6.67463683e-02  1.66121335e-02 -3.37110621e-02\n",
            "  -7.99834504e-03  5.99885964e-03 -3.71768575e-02 -5.46298858e-02\n",
            "   2.80406199e-02  1.28112029e-01  7.49039827e-01  1.17067264e+11\n",
            "   1.17067264e+11 -3.79730041e+08 -3.79730041e+08 -1.82520268e+11\n",
            "  -1.82520268e+11 -3.65326563e+10 -3.65326563e+10  2.20485904e+11\n",
            "   2.20485904e+11  1.59617501e+11  1.59617501e+11  1.59617501e+11\n",
            "   1.59617501e+11  1.59617501e+11 -1.25591404e+11 -1.25591404e+11\n",
            "  -1.25591404e+11 -1.25591404e+11 -1.25591404e+11 -5.03532126e+10\n",
            "  -5.03532126e+10 -5.03532126e+10 -5.03532126e+10 -5.27246934e+11\n",
            "  -5.27246934e+11 -5.27246934e+11 -6.08059846e-02  2.15461906e-02\n",
            "  -2.65824080e-03  5.97336886e-03 -6.51510070e-02  8.17238943e-02\n",
            "   4.24500008e-03 -3.67526320e-02]]\n"
          ]
        },
        {
          "output_type": "display_data",
          "data": {
            "text/plain": [
              "<Figure size 432x288 with 1 Axes>"
            ],
            "image/png": "[encoded data removed]"
          },
          "metadata": {
            "needs_background": "light"
          }
        }
      ]
    },
    {
      "cell_type": "code",
      "source": [
        "coef = coefficient[\"higher_yes\"]\n",
        "\n",
        "print('Coefficients are: b =', linear_model.intercept_, \"and m =\", coef)\n",
        "\n",
        "plt.scatter(X_test[\"higher_yes\"], y_test, color=\"blue\", label=\"Actual datapoints\")\n",
        "\n",
        "plt.plot(X_test[\"higher_yes\"], y_pred_new, color=\"red\", label=\"Predicted final grade\")\n",
        "\n",
        "plt.title(\"Linear regression prediction of how failures in previous courses affects final grade\")\n",
        "\n",
        "plt.xlabel(\"Aims for higher education after graduation\")\n",
        "plt.ylabel(\"Final grade\")\n",
        "\n",
        "plt.legend()\n",
        "\n",
        "plt.grid(); plt.show()"
      ],
      "metadata": {
        "colab": {
          "base_uri": "https://localhost:8080/",
          "height": 536
        },
        "id": "EJ57xN9JlJst",
        "outputId": "d54773a3-859e-4f05-ddb1-99f2f1a211a7"
      },
      "execution_count": null,
      "outputs": [
        {
          "output_type": "stream",
          "name": "stdout",
          "text": [
            "Coefficients are: b = [4.25453536e+11] and m = [[ 1.53447461e-02 -3.57499733e-02  2.09077675e-02  4.39466394e-02\n",
            "  -7.28211025e-03 -6.67463683e-02  1.66121335e-02 -3.37110621e-02\n",
            "  -7.99834504e-03  5.99885964e-03 -3.71768575e-02 -5.46298858e-02\n",
            "   2.80406199e-02  1.28112029e-01  7.49039827e-01  1.17067264e+11\n",
            "   1.17067264e+11 -3.79730041e+08 -3.79730041e+08 -1.82520268e+11\n",
            "  -1.82520268e+11 -3.65326563e+10 -3.65326563e+10  2.20485904e+11\n",
            "   2.20485904e+11  1.59617501e+11  1.59617501e+11  1.59617501e+11\n",
            "   1.59617501e+11  1.59617501e+11 -1.25591404e+11 -1.25591404e+11\n",
            "  -1.25591404e+11 -1.25591404e+11 -1.25591404e+11 -5.03532126e+10\n",
            "  -5.03532126e+10 -5.03532126e+10 -5.03532126e+10 -5.27246934e+11\n",
            "  -5.27246934e+11 -5.27246934e+11 -6.08059846e-02  2.15461906e-02\n",
            "  -2.65824080e-03  5.97336886e-03 -6.51510070e-02  8.17238943e-02\n",
            "   4.24500008e-03 -3.67526320e-02]]\n"
          ]
        },
        {
          "output_type": "display_data",
          "data": {
            "text/plain": [
              "<Figure size 432x288 with 1 Axes>"
            ],
            "image/png": "[encoded data removed]"
          },
          "metadata": {
            "needs_background": "light"
          }
        }
      ]
    },
    {
      "cell_type": "code",
      "source": [],
      "metadata": {
        "id": "mGYZ2Ya0m-1v"
      },
      "execution_count": null,
      "outputs": []
    },
    {
      "cell_type": "markdown",
      "source": [
        "As we can see above, the prediction of the linear regression model suits the datapoints best for feature 'grade_period_2'. There is a positive correlation between the datapoints of the first period grade and the final grade and a negative correlation between number of failures in previous courses and final grade."
      ],
      "metadata": {
        "id": "JA9BsYIGjPVG"
      }
    },
    {
      "cell_type": "code",
      "source": [
        "# RESCALING THE DATA #\n",
        "\n",
        "# Now we want to examine what the predicted grade values actually is, in the shape and form they originally have in the dataset. \n",
        "\n",
        "y_pred_rescaled = y_pred * data[\"final_grade\"].std() + data[\"final_grade\"].mean()\n",
        "# print(y_pred_rescaled)   # these are the predicted grades in their original form\n",
        "print(\"\\n\", \"Mean of predicted grades:\", y_pred_rescaled.mean())\n",
        "\n",
        "# Our model predicts a slightly higher mean of the grades than in database. "
      ],
      "metadata": {
        "colab": {
          "base_uri": "https://localhost:8080/"
        },
        "id": "SuvNbZELqYQh",
        "outputId": "c2ecb808-d283-4d0a-ea3a-3d10d329d8c4"
      },
      "execution_count": null,
      "outputs": [
        {
          "output_type": "stream",
          "name": "stdout",
          "text": [
            "\n",
            " Mean of predicted grades: 11.849062618837387\n"
          ]
        }
      ]
    },
    {
      "cell_type": "code",
      "source": [
        "# Creates a function to determine which will be the best alpha value for Lasso regression in following cell.\n",
        "alphas = np.arange(0,1,0.001).tolist()\n",
        "def best_alpha(X, y, alpha_values=alphas):\n",
        "    \"\"\"\n",
        "    Here we can test which the best alpha value is, using cross-validation for Lasso model.\n",
        "\n",
        "    X is a feature matrix and y is a target vector. We will test all alpha values in the list of alpha values.\n",
        "    \"\"\"\n",
        "    \n",
        "    lasso = LassoCV(alphas=alpha_values, cv=5, random_state=42)\n",
        "    lasso.fit(X, y)\n",
        "    \n",
        "    best_alpha = lasso.alpha_\n",
        "    \n",
        "    return best_alpha"
      ],
      "metadata": {
        "id": "0igE4PNjrFG0"
      },
      "execution_count": null,
      "outputs": []
    },
    {
      "cell_type": "code",
      "source": [
        "# LASSO REGRESSION #\n",
        "\n",
        "# 1. Split into training and testing data.\n",
        "boolean_mask = data_clean.columns.isin(['age', 'mother_education', 'father_education', 'traveltime', 'studytime', 'failures', 'famrel', 'freetime', 'going_out',\n",
        "       'workday_alcohol', 'weekend_alcohol', 'health', 'absences', 'grade_period1', 'grade_period2', 'school_GP', 'school_MS', 'sex_F', 'sex_M', 'address_R', 'address_U',\n",
        "       'family_size_GT3', 'family_size_LE3', 'parent_cohabition_status_A', 'parent_cohabition_status_T', 'mother_job_at_home', 'mother_job_health',\n",
        "       'mother_job_other', 'mother_job_services', 'mother_job_teacher', 'father_job_at_home', 'father_job_health', 'father_job_other','father_job_services', \n",
        "       'father_job_teacher', 'reason_course', 'reason_home', 'reason_other', 'reason_reputation', 'guardian_father', 'guardian_mother', 'guardian_other', \n",
        "       'school_support_yes','family_support_yes', 'paid_yes', 'extra_curricular_activities_yes', 'nursery_yes', 'higher_yes', 'internet_access_yes','romantic_yes'])\n",
        "\n",
        "sc = data_clean.columns[boolean_mask]\n",
        "X=data_clean[sc]\n",
        "\n",
        "boolean_mask_target = data_clean.columns.isin([\"final_grade\"])\n",
        "s = data_clean.columns[boolean_mask_target]\n",
        "y=data_clean[s]\n",
        "\n",
        "X_train, X_test, y_train, y_test = train_test_split(X, y, test_size=0.2, shuffle=True)\n",
        "X_train, X_val, y_train, y_val = train_test_split(X_train, y_train, test_size=0.25, shuffle=True)\n",
        "\n",
        "# 2. Fit the model and get the accuracy.\n",
        "best_alpha_for_lasso = best_alpha(X_train, y_train)\n",
        "print(\"The alpha value we will use is:\", best_alpha_for_lasso)\n",
        "lasso_model=Lasso(alpha=best_alpha_for_lasso)\n",
        "lasso_model.fit(X_train, y_train)\n",
        "\n",
        "# 3. Make the predictions, first on the validation set to measure suitability of the model.\n",
        "y_pred = lasso_model.predict(X_val)\n",
        "\n",
        "\n",
        "# 4. Get the slope and the intercept. \n",
        "# y = mx + b, where m represents the slope and b represents the y-intercept.\n",
        "print(\"Slope\",lasso_model.coef_[0])\n",
        "print(\"Intercept:\",lasso_model.intercept_)\n",
        "print(\"\\n\")\n",
        "\n",
        "# 5. Evaluate the performance of our model\n",
        "# Method 1: mean squared error\n",
        "# Disadvantage it's difficult to evaluate the performance of the model using MSE as the value of MSE can vary from 0 to any larger number\n",
        "mse = mean_squared_error(y_val,y_pred)\n",
        "print(\"Mean squared error:\", mse)\n",
        "\n",
        "# Method 2: R2.\n",
        "# The value of R2 varies between 0 and 1. \n",
        "r2=lasso_model.score(X_val,y_val)\n",
        "\n",
        "print(\"R2:\",r2)\n",
        "\n",
        "\n",
        "# 6. Get Lasso coefficients and select a few features to improve the model accuracy\n",
        "sel = SelectFromModel(lasso_model)\n",
        "removed_features = X_train.columns[(sel.estimator.coef_ == 0).ravel().tolist()]\n",
        "chosen_features = X_train.columns[(sel.estimator.coef_ != 0).ravel().tolist()]\n",
        "\n",
        "print(\"\\n\", chosen_features)\n"
      ],
      "metadata": {
        "colab": {
          "base_uri": "https://localhost:8080/"
        },
        "id": "RNJltvi4aawY",
        "outputId": "3742cf8d-4272-48d5-bb4f-bdbb6107aef7"
      },
      "execution_count": null,
      "outputs": [
        {
          "output_type": "stream",
          "name": "stdout",
          "text": [
            "The alpha value we will use is: 0.035\n",
            "Slope 0.0\n",
            "Intercept: [0.00070773]\n",
            "\n",
            "\n",
            "Mean squared error: 0.1351863031894642\n",
            "R2: 0.8837642399151437\n",
            "\n",
            " Index(['failures', 'workday_alcohol', 'grade_period1', 'grade_period2'], dtype='object')\n"
          ]
        }
      ]
    },
    {
      "cell_type": "code",
      "source": [
        "# LASSO REGRESSION AFTER FEATURE SELECTION #\n",
        "\n",
        "boolean_mask = data_clean.columns.isin(chosen_features.tolist())\n",
        "sc = data_clean.columns[boolean_mask]\n",
        "X=data_clean[sc]\n",
        "\n",
        "boolean_mask_target = data_clean.columns.isin([\"final_grade\"])\n",
        "s = data_clean.columns[boolean_mask_target]\n",
        "y=data_clean[s]\n",
        "\n",
        "X_train, X_test, y_train, y_test = train_test_split(X, y, test_size=0.2, shuffle=True)\n",
        "X_train, X_val, y_train, y_val = train_test_split(X_train, y_train, test_size=0.25, shuffle=True)\n",
        "\n",
        "# 2. Fit the model and get the accuracy.\n",
        "# best_alpha_for_lasso = best_alpha(X_train, y_train)\n",
        "# print(\"The alpha value we will use is:\", best_alpha_for_lasso)\n",
        "lasso_model=Lasso(alpha=best_alpha_for_lasso)\n",
        "lasso_model.fit(X_train, y_train)\n",
        "\n",
        "# 3. Make the predictions on the validation set.\n",
        "y_pred = lasso_model.predict(X_val)\n",
        "\n",
        "# 4. Get the slope and the intercept. \n",
        "# y = mx + b, where m represents the slope and b represents the y-intercept.\n",
        "print(\"Slope\",lasso_model.coef_[0])\n",
        "print(\"Intercept:\",lasso_model.intercept_)\n",
        "print(\"\\n\")\n",
        "\n",
        "# 5. Evaluate the performance of our model\n",
        "# Method 1: mean squared error\n",
        "# Disadvantage it's difficult to evaluate the performance of the model using MSE as the value of MSE can vary from 0 to any larger number\n",
        "mse = mean_squared_error(y_val,y_val)\n",
        "print(\"Mean squared error:\", mse)\n",
        "\n",
        "# Method 2: R2.\n",
        "# The value of R2 varies between 0 and 1. \n",
        "r2=lasso_model.score(X_val,y_val)\n",
        "print(\"R2:\",r2)\n"
      ],
      "metadata": {
        "colab": {
          "base_uri": "https://localhost:8080/"
        },
        "id": "Cc05nCV7s9b5",
        "outputId": "246fbca3-2bc7-49ef-80fc-0b996d7e5ca6"
      },
      "execution_count": null,
      "outputs": [
        {
          "output_type": "stream",
          "name": "stdout",
          "text": [
            "Slope -0.032899039112842456\n",
            "Intercept: [0.00458896]\n",
            "\n",
            "\n",
            "Mean squared error: 0.0\n",
            "R2: 0.8666625281260331\n"
          ]
        }
      ]
    },
    {
      "cell_type": "code",
      "source": [
        "# Now that we are happy with the model, we test the actual accuracies on the test set\n",
        "\n",
        "y_pred_new = lasso_model.predict(X_test)\n",
        "\n",
        "mse = mean_squared_error(y_test,y_test)\n",
        "print(\"Mean squared error:\", mse)\n",
        "\n",
        "r2=lasso_model.score(X_test,y_test)\n",
        "print(\"R2:\",r2)"
      ],
      "metadata": {
        "colab": {
          "base_uri": "https://localhost:8080/"
        },
        "id": "cfSIp8Ejyg74",
        "outputId": "59a32d38-0bc4-48fc-cf29-aa6a91cade26"
      },
      "execution_count": null,
      "outputs": [
        {
          "output_type": "stream",
          "name": "stdout",
          "text": [
            "Mean squared error: 0.0\n",
            "R2: 0.8205487336091275\n"
          ]
        }
      ]
    },
    {
      "cell_type": "code",
      "source": [
        "x = np.arange(-4, 4, 1)\n",
        "plt.scatter(y_test, y_pred_new)\n",
        "plt.xlabel(\"Actual final grade\")\n",
        "plt.ylabel(\"Predicted final grade\")\n",
        "plt.plot(x, x, color='m')\n",
        "plt.title(\"Actual vs. predicted final grade, Lasso model\")\n",
        "plt.grid(alpha=0.5); plt.show()"
      ],
      "metadata": {
        "colab": {
          "base_uri": "https://localhost:8080/",
          "height": 295
        },
        "id": "I9yypZ2TlTls",
        "outputId": "08e080b5-e923-416d-cea3-4a0292177438"
      },
      "execution_count": null,
      "outputs": [
        {
          "output_type": "display_data",
          "data": {
            "text/plain": [
              "<Figure size 432x288 with 1 Axes>"
            ],
            "image/png": "[encoded data removed]"
          },
          "metadata": {
            "needs_background": "light"
          }
        }
      ]
    },
    {
      "cell_type": "code",
      "source": [
        "y_pred_rescaled = y_pred * data[\"final_grade\"].std() + data[\"final_grade\"].mean()\n",
        "# print(y_pred_rescaled)   # these are the predicted grades in their original form\n",
        "print(\"\\n\", \"Mean of predicted grades:\", y_pred_rescaled.mean())"
      ],
      "metadata": {
        "colab": {
          "base_uri": "https://localhost:8080/"
        },
        "id": "P0IdXEMUmfff",
        "outputId": "21c62b92-75d9-4e9c-b3f4-48aba975d03b"
      },
      "execution_count": null,
      "outputs": [
        {
          "output_type": "stream",
          "name": "stdout",
          "text": [
            "\n",
            " Mean of predicted grades: 11.964975400232905\n"
          ]
        }
      ]
    },
    {
      "cell_type": "markdown",
      "source": [
        "We can see that, so far, we get an accuracy of the linear regression model of approximately 0.796 (79.6%). \n",
        "\n",
        "The Lasso regression model gets an accuracy of approximately 0.858 (85.8%), but after feature selection it gets an accuracy of approximately 0.867 (86.7%).\n",
        "\n",
        "All of these results differs for every run since the data is splitted randomly with shuffle = True. \n",
        "\n",
        "One thing that is important to note is that two of the features that affects these results the most are 'grade_period1' and 'grade_period2', which are also measures of grades. These have, as we can see, a very high correlation with the final grade. \n",
        "\n",
        "We should try just how much the current accuracy depends on these by removing them from the data."
      ],
      "metadata": {
        "id": "1g-Mx2fG--oU"
      }
    },
    {
      "cell_type": "code",
      "source": [
        "# CLEAN THE DATABASE # \n",
        "\n",
        "# 1. Drop the columns that we are not going to use.\n",
        "data_clean = data.drop(['grade_period1', 'grade_period2'], axis=1)\n",
        "numerical_columns_new = ['age', 'mother_education', 'father_education', 'traveltime', 'studytime', 'failures', 'famrel', 'freetime', 'going_out', 'workday_alcohol', 'weekend_alcohol', 'health', 'absences', 'final_grade']"
      ],
      "metadata": {
        "id": "yXtHbTcqA63u"
      },
      "execution_count": null,
      "outputs": []
    },
    {
      "cell_type": "code",
      "source": [
        "# CLEAN THE DATABASE # \n",
        "\n",
        "# 3. Get the dummies so that it is easier to work. \n",
        "# This is, transform the categorical columns into numerical ones. \n",
        "data_clean = pd.get_dummies(data_clean, columns=categorical_columns)\n",
        "\n",
        "# 4. Transform the data. \n",
        "# we need to standarize the data to take into consideration variations in measurments, units and scales. \n",
        "scaler = StandardScaler()\n",
        "scaled_data = scaler.fit_transform(data_clean[numerical_columns_new])\n",
        "scaled_dataframe = pd.DataFrame(scaled_data, columns = numerical_columns_new)  \n",
        "scaled_dataframe.head()\n",
        "\n",
        "for column in numerical_columns_new:\n",
        "  data_clean.append(scaled_dataframe[column])\n",
        "  data_clean[column] = scaled_dataframe[column]"
      ],
      "metadata": {
        "id": "uHZF0NGLAolf"
      },
      "execution_count": null,
      "outputs": []
    },
    {
      "cell_type": "code",
      "source": [
        "# LASSO REGRESSION #\n",
        "\n",
        "# 1. Split into training and testing data.\n",
        "boolean_mask = data_clean.columns.isin(['age', 'mother_education', 'father_education', 'traveltime', 'studytime', 'failures', 'famrel', 'freetime', 'going_out',\n",
        "       'workday_alcohol', 'weekend_alcohol', 'health', 'absences', 'school_GP', 'school_MS', 'sex_F', 'sex_M', 'address_R', 'address_U',\n",
        "       'family_size_GT3', 'family_size_LE3', 'parent_cohabition_status_A', 'parent_cohabition_status_T', 'mother_job_at_home', 'mother_job_health',\n",
        "       'mother_job_other', 'mother_job_services', 'mother_job_teacher', 'father_job_at_home', 'father_job_health', 'father_job_other','father_job_services', \n",
        "       'father_job_teacher', 'reason_course', 'reason_home', 'reason_other', 'reason_reputation', 'guardian_father', 'guardian_mother', 'guardian_other', \n",
        "       'school_support_yes','family_support_yes', 'paid_yes', 'extra_curricular_activities_yes', 'nursery_yes', 'higher_yes', 'internet_access_yes','romantic_yes'])\n",
        "sc = data_clean.columns[boolean_mask]\n",
        "X=data_clean[sc]\n",
        "\n",
        "boolean_mask_target = data_clean.columns.isin([\"final_grade\"])\n",
        "s = data_clean.columns[boolean_mask_target]\n",
        "y=data_clean[s]\n",
        "\n",
        "X_train, X_test, y_train, y_test = train_test_split(X, y, test_size=0.2, shuffle=True)\n",
        "\n",
        "# 2. Fit the model and get the accuracy.\n",
        "best_alpha_for_lasso = best_alpha(X_train, y_train)\n",
        "print(\"The alpha value we will use is:\", best_alpha_for_lasso)\n",
        "lasso_model=Lasso(alpha=best_alpha_for_lasso)\n",
        "lasso_model.fit(X_train, y_train)\n",
        "\n",
        "# 3. Make the predictions.\n",
        "y_pred = lasso_model.predict(X_test)\n",
        "\n",
        "\n",
        "# 4. Get the slope and the intercept. \n",
        "# y = mx + b, where m represents the slope and b represents the y-intercept.\n",
        "print(\"Slope\",lasso_model.coef_[0])\n",
        "print(\"Intercept:\",lasso_model.intercept_)\n",
        "print(\"\\n\")\n",
        "\n",
        "# 5. Evaluate the performance of our model\n",
        "# Method 1: mean squared error\n",
        "# Disadvantage it's difficult to evaluate the performance of the model using MSE as the value of MSE can vary from 0 to any larger number\n",
        "mse = mean_squared_error(y_test,y_pred)\n",
        "print(\"Mean squared error:\", mse)\n",
        "\n",
        "# Method 2: R2.\n",
        "# The value of R2 varies between 0 and 1. \n",
        "r2=lasso_model.score(X_test,y_test)\n",
        "\n",
        "print(\"R2:\",r2)\n",
        "\n",
        "\n",
        "# 6. Get Lasso coefficients and select a few features to improve the model accuracy\n",
        "sel = SelectFromModel(lasso_model)\n",
        "removed_features = X_train.columns[(sel.estimator.coef_ == 0).ravel().tolist()]\n",
        "chosen_features = X_train.columns[(sel.estimator.coef_ != 0).ravel().tolist()]\n",
        "\n",
        "print(\"\\n\", chosen_features)\n"
      ],
      "metadata": {
        "colab": {
          "base_uri": "https://localhost:8080/"
        },
        "id": "vS34w3MEB9O2",
        "outputId": "38c90a3c-a883-4249-8a93-704abefa7141"
      },
      "execution_count": null,
      "outputs": [
        {
          "output_type": "stream",
          "name": "stdout",
          "text": [
            "The alpha value we will use is: 0.014\n",
            "Slope 0.05108898349621459\n",
            "Intercept: [-0.53259157]\n",
            "\n",
            "\n",
            "Mean squared error: 0.8557813608442372\n",
            "R2: 0.2600901054296514\n",
            "\n",
            " Index(['age', 'mother_education', 'father_education', 'studytime', 'failures',\n",
            "       'famrel', 'freetime', 'workday_alcohol', 'weekend_alcohol', 'health',\n",
            "       'absences', 'school_GP', 'sex_F', 'sex_M', 'address_R', 'address_U',\n",
            "       'mother_job_health', 'father_job_services', 'reason_other',\n",
            "       'reason_reputation', 'guardian_father', 'guardian_mother',\n",
            "       'school_support_yes', 'extra_curricular_activities_yes', 'higher_yes',\n",
            "       'internet_access_yes', 'romantic_yes'],\n",
            "      dtype='object')\n"
          ]
        }
      ]
    },
    {
      "cell_type": "code",
      "source": [
        "# LASSO REGRESSION AFTER FEATURE SELECTION #\n",
        "\n",
        "boolean_mask = data_clean.columns.isin(chosen_features.tolist())\n",
        "sc = data_clean.columns[boolean_mask]\n",
        "X=data_clean[sc]\n",
        "\n",
        "boolean_mask_target = data_clean.columns.isin([\"final_grade\"])\n",
        "s = data_clean.columns[boolean_mask_target]\n",
        "y=data_clean[s]\n",
        "\n",
        "X_train, X_test, y_train, y_test = train_test_split(X, y, test_size=0.2, shuffle=True)\n",
        "\n",
        "# 2. Fit the model and get the accuracy.\n",
        "# best_alpha_for_lasso = best_alpha(X_train, y_train)\n",
        "# print(\"The alpha value we will use is:\", best_alpha_for_lasso)\n",
        "lasso_model=Lasso(alpha=best_alpha_for_lasso)\n",
        "lasso_model.fit(X_train, y_train)\n",
        "\n",
        "# 3. Make the predictions.\n",
        "y_pred = lasso_model.predict(X_test)\n",
        "\n",
        "# 4. Get the slope and the intercept. \n",
        "# y = mx + b, where m represents the slope and b represents the y-intercept.\n",
        "print(\"Slope\",lasso_model.coef_[0])\n",
        "print(\"Intercept:\",lasso_model.intercept_)\n",
        "print(\"\\n\")\n",
        "\n",
        "# 5. Evaluate the performance of our model\n",
        "# Method 1: mean squared error\n",
        "# Disadvantage it's difficult to evaluate the performance of the model using MSE as the value of MSE can vary from 0 to any larger number\n",
        "mse = mean_squared_error(y_test,y_pred)\n",
        "print(\"Mean squared error:\", mse)\n",
        "\n",
        "# Method 2: R2.\n",
        "# The value of R2 varies between 0 and 1. \n",
        "r2=lasso_model.score(X_test,y_test)\n",
        "print(\"R2:\",r2)"
      ],
      "metadata": {
        "colab": {
          "base_uri": "https://localhost:8080/"
        },
        "id": "yryJcejFCPPn",
        "outputId": "f7e5a09a-c514-4149-a257-91c89a845419"
      },
      "execution_count": null,
      "outputs": [
        {
          "output_type": "stream",
          "name": "stdout",
          "text": [
            "Slope 0.034303202820271037\n",
            "Intercept: [-0.52994385]\n",
            "\n",
            "\n",
            "Mean squared error: 0.623126681865906\n",
            "R2: 0.34747383600780546\n"
          ]
        }
      ]
    },
    {
      "cell_type": "markdown",
      "source": [
        "As we suspected, the accuracy gets much worse when these features are removed."
      ],
      "metadata": {
        "id": "MZ0GS8fgCVzp"
      }
    }
  ]
}