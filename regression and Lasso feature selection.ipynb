{
  "nbformat": 4,
  "nbformat_minor": 0,
  "metadata": {
    "colab": {
      "provenance": []
    },
    "kernelspec": {
      "name": "python3",
      "display_name": "Python 3"
    },
    "language_info": {
      "name": "python"
    }
  },
  "cells": [
    {
      "cell_type": "code",
      "execution_count": 130,
      "metadata": {
        "id": "KDNPMCnItCl-"
      },
      "outputs": [],
      "source": [
        "# LIBRARIES #\n",
        "import pandas as pd\n",
        "import numpy as np\n",
        "import matplotlib as plt\n",
        "import matplotlib.pyplot as plt\n",
        "import seaborn as sns\n",
        "import warnings\n",
        "import io\n",
        "import sklearn\n",
        "import sklearn.metrics  as metrics\n",
        "import sklearn.cluster as cluster\n",
        "from sklearn.cluster import KMeans\n",
        "from sklearn.decomposition import PCA\n",
        "from sklearn.model_selection import train_test_split, StratifiedKFold, cross_validate, KFold, cross_val_score, GridSearchCV\n",
        "from sklearn.feature_selection import SelectFromModel\n",
        "from sklearn.linear_model import LinearRegression, Lasso, LassoCV\n",
        "from sklearn.metrics import mean_squared_error, accuracy_score, classification_report, mean_squared_error, r2_score\n",
        "from sklearn.preprocessing import StandardScaler\n",
        "from sklearn.neighbors import KNeighborsClassifier\n",
        "%matplotlib inline"
      ]
    },
    {
      "cell_type": "code",
      "source": [
        "# READ CSV #\n",
        "warnings.filterwarnings('ignore')\n",
        "data = pd.read_csv('/content/student-por.csv', sep=\",\")"
      ],
      "metadata": {
        "id": "kowRfnwMtM0o"
      },
      "execution_count": 131,
      "outputs": []
    },
    {
      "cell_type": "code",
      "source": [
        "# FIRST APPROACH TO THE DATASET #\n",
        "\n",
        "# columns names #\n",
        "data_names = ['school', 'sex', 'age', 'address', 'family_size', 'parent_cohabition_status', 'mother_education', 'father_education','mother_job', 'father_job', 'reason', 'guardian', 'traveltime', 'studytime', 'failures', 'school_support', 'family_support', 'paid', 'extra_curricular_activities', 'nursery', 'higher', 'internet_access', 'romantic', 'famrel', 'freetime', 'going_out', 'workday_alcohol', 'weekend_alcohol', 'health', 'absences','grade_period1', 'grade_period2', 'final_grade' ]\n",
        "data.columns = data_names\n",
        "\n",
        "# numerical vs categorical columns #\n",
        "numerical_columns = ['age', 'mother_education', 'father_education', 'traveltime', 'studytime', 'failures', 'famrel', 'freetime', 'going_out', 'workday_alcohol', 'weekend_alcohol', 'health', 'absences','grade_period1', 'grade_period2', 'final_grade']\n",
        "categorical_columns = [\"school\",\"sex\",'address', 'family_size', 'parent_cohabition_status','mother_job', 'father_job', 'reason', 'guardian',\"school_support\", \"family_support\",'paid', 'extra_curricular_activities', 'nursery', 'higher', 'internet_access', 'romantic']\n"
      ],
      "metadata": {
        "id": "RxuRRRKztR-p"
      },
      "execution_count": 132,
      "outputs": []
    },
    {
      "cell_type": "code",
      "source": [
        "# CLEAN THE DATABASE # \n",
        "\n",
        "# 1. Drop the columns that we are not going to use.\n",
        "data_clean = data.drop(['grade_period1', 'grade_period2'], axis=1)\n",
        "\n",
        "# 2. Drop na's.\n",
        "data_clean=data.replace(r'^\\s*$', np.nan, regex=True)\n",
        "data_clean=data_clean.dropna(inplace=True)\n",
        "\n",
        "# 3. Get the dummies so that it is easier to work. \n",
        "# This is, transform the categorical columns into numerical ones. \n",
        "data_clean = pd.get_dummies(data, columns=categorical_columns)\n",
        "\n",
        "# 4. Transform the data. \n",
        "# we need to standarize the data to take into consideration variations in measurments, units and scales. \n",
        "scaler = StandardScaler()\n",
        "scaled_data = scaler.fit_transform(data_clean[numerical_columns])\n",
        "scaled_dataframe = pd.DataFrame(scaled_data, columns = numerical_columns)  \n",
        "scaled_dataframe.head()\n",
        "\n",
        "for column in numerical_columns:\n",
        "  data_clean.append(scaled_dataframe[column])\n",
        "  data_clean[column] = scaled_dataframe[column]"
      ],
      "metadata": {
        "id": "U_lOXKQ7tWAC"
      },
      "execution_count": 133,
      "outputs": []
    },
    {
      "cell_type": "code",
      "source": [
        "# LINEAR REGRESSION #\n",
        "\n",
        "# 1. Split into training and testing data.\n",
        "boolean_mask = data_clean.columns.isin(['age', 'mother_education', 'father_education', 'traveltime', 'studytime', 'failures', 'famrel', 'freetime', 'going_out',\n",
        "       'workday_alcohol', 'weekend_alcohol', 'health', 'absences', 'grade_period1', 'grade_period2', 'school_GP', 'school_MS', 'sex_F', 'sex_M', 'address_R', 'address_U',\n",
        "       'family_size_GT3', 'family_size_LE3', 'parent_cohabition_status_A', 'parent_cohabition_status_T', 'mother_job_at_home', 'mother_job_health',\n",
        "       'mother_job_other', 'mother_job_services', 'mother_job_teacher', 'father_job_at_home', 'father_job_health', 'father_job_other','father_job_services', \n",
        "       'father_job_teacher', 'reason_course', 'reason_home', 'reason_other', 'reason_reputation', 'guardian_father', 'guardian_mother', 'guardian_other', \n",
        "       'school_support_yes','family_support_yes', 'paid_yes', 'extra_curricular_activities_yes', 'nursery_yes', 'higher_yes', 'internet_access_yes','romantic_yes'])\n",
        "sc = data_clean.columns[boolean_mask]\n",
        "X=data_clean[sc]\n",
        "\n",
        "boolean_mask_target = data_clean.columns.isin([\"final_grade\"])\n",
        "s = data_clean.columns[boolean_mask_target]\n",
        "y=data_clean[s]\n",
        "\n",
        "X_train, X_test, y_train, y_test = train_test_split(X, y, test_size=0.2, shuffle=True)\n",
        "\n",
        "# 2. Fit the model, get the prediction and get the accuracy.\n",
        "linear_model=LinearRegression()\n",
        "linear_model.fit(X_train, y_train)\n",
        "print(\"Linear regression:\")\n",
        "\n",
        "y_pred = linear_model.predict(X_train)\n",
        "\n",
        "print(\"Accuracy:\", linear_model.score(X_test,y_test))   # linear_model.score uses R-squared metric by default\n",
        "\n",
        "mse_tot = mean_squared_error(y_train, y_pred)  \n",
        "\n",
        "print(\"Mean squared error: %.10f\" % mse_tot)  \n",
        "\n",
        "# 3. Get the coefficients of the regression model:\n",
        "coefficient={}\n",
        "for coef, feat in zip(linear_model.coef_,X.columns):\n",
        "  coefficient[feat]=coef\n"
      ],
      "metadata": {
        "colab": {
          "base_uri": "https://localhost:8080/"
        },
        "id": "PiaM6AREVpHU",
        "outputId": "ca769721-e959-44b4-9ad7-76e065efa662"
      },
      "execution_count": 134,
      "outputs": [
        {
          "output_type": "stream",
          "name": "stdout",
          "text": [
            "Linear regression:\n",
            "Accuracy: 0.8283701067174073\n",
            "Mean squared error: 0.1385500842\n"
          ]
        }
      ]
    },
    {
      "cell_type": "code",
      "source": [
        "# Creates a function to determine which will be the best alpha value for Lasso regression in following cell.\n",
        "alphas = np.arange(0,1,0.001).tolist()\n",
        "def best_alpha(X, y, alpha_values=alphas):\n",
        "    \"\"\"\n",
        "    Here we can test which the best alpha value is, using cross-validation for Lasso model.\n",
        "\n",
        "    X is a feature matrix and y is a target vector. We will test all alpha values in the list of alpha values.\n",
        "    \"\"\"\n",
        "    \n",
        "    lasso = LassoCV(alphas=alpha_values, cv=5, random_state=42)\n",
        "    lasso.fit(X, y)\n",
        "    \n",
        "    best_alpha = lasso.alpha_\n",
        "    \n",
        "    return best_alpha"
      ],
      "metadata": {
        "id": "0igE4PNjrFG0"
      },
      "execution_count": 135,
      "outputs": []
    },
    {
      "cell_type": "code",
      "source": [
        "# LASSO REGRESSION #\n",
        "\n",
        "# 1. Split into training and testing data.\n",
        "boolean_mask = data_clean.columns.isin(['age', 'mother_education', 'father_education', 'traveltime', 'studytime', 'failures', 'famrel', 'freetime', 'going_out',\n",
        "       'workday_alcohol', 'weekend_alcohol', 'health', 'absences', 'grade_period1', 'grade_period2', 'school_GP', 'school_MS', 'sex_F', 'sex_M', 'address_R', 'address_U',\n",
        "       'family_size_GT3', 'family_size_LE3', 'parent_cohabition_status_A', 'parent_cohabition_status_T', 'mother_job_at_home', 'mother_job_health',\n",
        "       'mother_job_other', 'mother_job_services', 'mother_job_teacher', 'father_job_at_home', 'father_job_health', 'father_job_other','father_job_services', \n",
        "       'father_job_teacher', 'reason_course', 'reason_home', 'reason_other', 'reason_reputation', 'guardian_father', 'guardian_mother', 'guardian_other', \n",
        "       'school_support_yes','family_support_yes', 'paid_yes', 'extra_curricular_activities_yes', 'nursery_yes', 'higher_yes', 'internet_access_yes','romantic_yes'])\n",
        "sc = data_clean.columns[boolean_mask]\n",
        "X=data_clean[sc]\n",
        "\n",
        "boolean_mask_target = data_clean.columns.isin([\"final_grade\"])\n",
        "s = data_clean.columns[boolean_mask_target]\n",
        "y=data_clean[s]\n",
        "\n",
        "X_train, X_test, y_train, y_test = train_test_split(X, y, test_size=0.2, shuffle=True)\n",
        "\n",
        "# 2. Fit the model and get the accuracy.\n",
        "best_alpha_for_lasso = best_alpha(X_train, y_train)\n",
        "print(\"The alpha value we will use is:\", best_alpha_for_lasso)\n",
        "lasso_model=Lasso(alpha=best_alpha_for_lasso)\n",
        "lasso_model.fit(X_train, y_train)\n",
        "\n",
        "# 3. Make the predictions.\n",
        "y_pred = lasso_model.predict(X_test)\n",
        "\n",
        "# 4. Get the slope and the intercept. \n",
        "# y = mx + b, where m represents the slope and b represents the y-intercept.\n",
        "print(\"Slope\",lasso_model.coef_[0])\n",
        "print(\"Intercept:\",lasso_model.intercept_)\n",
        "print(\"\\n\")\n",
        "\n",
        "# 5. Evaluate the performance of our model\n",
        "# Method 1: mean squared error\n",
        "# Disadvantage it's difficult to evaluate the performance of the model using MSE as the value of MSE can vary from 0 to any larger number\n",
        "mse = mean_squared_error(y_test,y_pred)\n",
        "print(\"Mean squared error:\", mse)\n",
        "\n",
        "# Method 2: R2.\n",
        "# The value of R2 varies between 0 and 1. \n",
        "r2=lasso_model.score(X_test,y_test)\n",
        "\n",
        "print(\"R2:\",r2)\n",
        "\n",
        "\n",
        "# 6. Get Lasso coefficients and select a few features to improve the model accuracy\n",
        "sel = SelectFromModel(lasso_model)\n",
        "removed_features = X_train.columns[(sel.estimator.coef_ == 0).ravel().tolist()]\n",
        "chosen_features = X_train.columns[(sel.estimator.coef_ != 0).ravel().tolist()]\n",
        "\n",
        "print(\"\\n\", chosen_features)\n"
      ],
      "metadata": {
        "colab": {
          "base_uri": "https://localhost:8080/"
        },
        "id": "RNJltvi4aawY",
        "outputId": "bb061a49-6764-4815-be21-97aaf5f92492"
      },
      "execution_count": 136,
      "outputs": [
        {
          "output_type": "stream",
          "name": "stdout",
          "text": [
            "The alpha value we will use is: 0.029\n",
            "Slope -0.0\n",
            "Intercept: [0.00546337]\n",
            "\n",
            "\n",
            "Mean squared error: 0.1761270307798241\n",
            "R2: 0.7939007156300775\n",
            "\n",
            " Index(['failures', 'freetime', 'workday_alcohol', 'health', 'grade_period1',\n",
            "       'grade_period2'],\n",
            "      dtype='object')\n"
          ]
        }
      ]
    },
    {
      "cell_type": "code",
      "source": [
        "# LASSO REGRESSION AFTER FEATURE SELECTION #\n",
        "\n",
        "boolean_mask = data_clean.columns.isin(chosen_features.tolist())\n",
        "sc = data_clean.columns[boolean_mask]\n",
        "X=data_clean[sc]\n",
        "\n",
        "boolean_mask_target = data_clean.columns.isin([\"final_grade\"])\n",
        "s = data_clean.columns[boolean_mask_target]\n",
        "y=data_clean[s]\n",
        "\n",
        "X_train, X_test, y_train, y_test = train_test_split(X, y, test_size=0.2, shuffle=True)\n",
        "\n",
        "# 2. Fit the model and get the accuracy.\n",
        "# best_alpha_for_lasso = best_alpha(X_train, y_train)\n",
        "# print(\"The alpha value we will use is:\", best_alpha_for_lasso)\n",
        "lasso_model=Lasso(alpha=best_alpha_for_lasso)\n",
        "lasso_model.fit(X_train, y_train)\n",
        "\n",
        "# 3. Make the predictions.\n",
        "y_pred = lasso_model.predict(X_test)\n",
        "\n",
        "# 4. Get the slope and the intercept. \n",
        "# y = mx + b, where m represents the slope and b represents the y-intercept.\n",
        "print(\"Slope\",lasso_model.coef_[0])\n",
        "print(\"Intercept:\",lasso_model.intercept_)\n",
        "print(\"\\n\")\n",
        "\n",
        "# 5. Evaluate the performance of our model\n",
        "# Method 1: mean squared error\n",
        "# Disadvantage it's difficult to evaluate the performance of the model using MSE as the value of MSE can vary from 0 to any larger number\n",
        "mse = mean_squared_error(y_test,y_pred)\n",
        "print(\"Mean squared error:\", mse)\n",
        "\n",
        "# Method 2: R2.\n",
        "# The value of R2 varies between 0 and 1. \n",
        "r2=lasso_model.score(X_test,y_test)\n",
        "print(\"R2:\",r2)\n"
      ],
      "metadata": {
        "colab": {
          "base_uri": "https://localhost:8080/"
        },
        "id": "Cc05nCV7s9b5",
        "outputId": "548b8abe-cc85-4ebf-bd88-6bb632b086c0"
      },
      "execution_count": 137,
      "outputs": [
        {
          "output_type": "stream",
          "name": "stdout",
          "text": [
            "Slope -0.014121017841364355\n",
            "Intercept: [-0.01397308]\n",
            "\n",
            "\n",
            "Mean squared error: 0.13822483677252867\n",
            "R2: 0.8624508364584693\n"
          ]
        }
      ]
    }
  ]
}